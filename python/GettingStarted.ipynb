{
 "cells": [
  {
   "cell_type": "markdown",
   "metadata": {},
   "source": [
    "In this notebook, we will explore learn about the WhyLogs Python library and the resulting profile summaries. \n",
    "\n",
    "# Getting Started with WhyLogs Profile Summaries\n",
    "\n",
    "We will first read in raw data into Pandas from file and explore that data briefly. To run WhyLogs, we will then import the WhyLogs library, initialize a logging session with WhyLogs, and create a profile that data -- resulting in a WhyLogs profile summary. Finally, we'll explore some of the features of the profile summary content.\n",
    "\n",
    "First, we will import a few standard data science Python libraries."
   ]
  },
  {
   "cell_type": "code",
   "execution_count": 1,
   "metadata": {},
   "outputs": [],
   "source": [
    "%matplotlib inline\n",
    "import warnings\n",
    "warnings.simplefilter(\"ignore\")"
   ]
  },
  {
   "cell_type": "code",
   "execution_count": 2,
   "metadata": {},
   "outputs": [],
   "source": [
    "import datetime\n",
    "import os.path\n",
    "import pandas as pd\n",
    "import numpy as np"
   ]
  },
  {
   "cell_type": "markdown",
   "metadata": {},
   "source": [
    "WhyLogs allows you to characterize and store key characteristics of a growing dataset efficiently. In machine learning, datasets often consist of both input features and outputs of the model. In deployed systems, you often have a relatively static training dataset as well as a growing dataset from model input and output at inference time.\n",
    "\n",
    "## Downloading and exploring the raw Lending Club data\n",
    "\n",
    "In our case, we will download and explore a sample from the Lending Club dataset before logging a WhyLogs profile summary. Lending Club is a peer-to-peer lending and alternative investing website on which members may apply for personal loans and invest in personal loans to other Lending Club members. The company published a dataset with information starting in 2013(?). This particular dataset contains only the accepted loans."
   ]
  },
  {
   "cell_type": "markdown",
   "metadata": {},
   "source": [
    "Our example input data is located at `lending_club_demo.csv`. You may use the Juypyter command `!` in front of cell contents to execute a Bash command like `cd` to navigate if necessary."
   ]
  },
  {
   "cell_type": "code",
   "execution_count": 3,
   "metadata": {},
   "outputs": [],
   "source": [
    "data_file = \"lending_club_demo.csv\""
   ]
  },
  {
   "cell_type": "markdown",
   "metadata": {},
   "source": [
    "Let's read in that data file into a Pandas dataframe and look at the entries for *January 2017*.\n",
    "\n",
    "Each row refers to a particular loan instance while each column refers to a variable in our dataset."
   ]
  },
  {
   "cell_type": "code",
   "execution_count": 4,
   "metadata": {},
   "outputs": [
    {
     "data": {
      "text/html": [
       "<div>\n",
       "<style scoped>\n",
       "    .dataframe tbody tr th:only-of-type {\n",
       "        vertical-align: middle;\n",
       "    }\n",
       "\n",
       "    .dataframe tbody tr th {\n",
       "        vertical-align: top;\n",
       "    }\n",
       "\n",
       "    .dataframe thead th {\n",
       "        text-align: right;\n",
       "    }\n",
       "</style>\n",
       "<table border=\"1\" class=\"dataframe\">\n",
       "  <thead>\n",
       "    <tr style=\"text-align: right;\">\n",
       "      <th></th>\n",
       "      <th>id</th>\n",
       "      <th>member_id</th>\n",
       "      <th>loan_amnt</th>\n",
       "      <th>funded_amnt</th>\n",
       "      <th>funded_amnt_inv</th>\n",
       "      <th>term</th>\n",
       "      <th>int_rate</th>\n",
       "      <th>installment</th>\n",
       "      <th>grade</th>\n",
       "      <th>sub_grade</th>\n",
       "      <th>...</th>\n",
       "      <th>hardship_payoff_balance_amount</th>\n",
       "      <th>hardship_last_payment_amount</th>\n",
       "      <th>disbursement_method</th>\n",
       "      <th>debt_settlement_flag</th>\n",
       "      <th>debt_settlement_flag_date</th>\n",
       "      <th>settlement_status</th>\n",
       "      <th>settlement_date</th>\n",
       "      <th>settlement_amount</th>\n",
       "      <th>settlement_percentage</th>\n",
       "      <th>settlement_term</th>\n",
       "    </tr>\n",
       "  </thead>\n",
       "  <tbody>\n",
       "    <tr>\n",
       "      <th>10599</th>\n",
       "      <td>96596008</td>\n",
       "      <td>NaN</td>\n",
       "      <td>15000.0</td>\n",
       "      <td>15000.0</td>\n",
       "      <td>15000.0</td>\n",
       "      <td>36 months</td>\n",
       "      <td>15.99</td>\n",
       "      <td>527.29</td>\n",
       "      <td>C</td>\n",
       "      <td>C5</td>\n",
       "      <td>...</td>\n",
       "      <td>NaN</td>\n",
       "      <td>NaN</td>\n",
       "      <td>Cash</td>\n",
       "      <td>N</td>\n",
       "      <td>NaN</td>\n",
       "      <td>NaN</td>\n",
       "      <td>NaN</td>\n",
       "      <td>NaN</td>\n",
       "      <td>NaN</td>\n",
       "      <td>NaN</td>\n",
       "    </tr>\n",
       "    <tr>\n",
       "      <th>10601</th>\n",
       "      <td>96703051</td>\n",
       "      <td>NaN</td>\n",
       "      <td>14575.0</td>\n",
       "      <td>14575.0</td>\n",
       "      <td>14575.0</td>\n",
       "      <td>36 months</td>\n",
       "      <td>25.49</td>\n",
       "      <td>583.29</td>\n",
       "      <td>E</td>\n",
       "      <td>E4</td>\n",
       "      <td>...</td>\n",
       "      <td>NaN</td>\n",
       "      <td>NaN</td>\n",
       "      <td>Cash</td>\n",
       "      <td>N</td>\n",
       "      <td>NaN</td>\n",
       "      <td>NaN</td>\n",
       "      <td>NaN</td>\n",
       "      <td>NaN</td>\n",
       "      <td>NaN</td>\n",
       "      <td>NaN</td>\n",
       "    </tr>\n",
       "    <tr>\n",
       "      <th>10602</th>\n",
       "      <td>96960509</td>\n",
       "      <td>NaN</td>\n",
       "      <td>5000.0</td>\n",
       "      <td>5000.0</td>\n",
       "      <td>5000.0</td>\n",
       "      <td>36 months</td>\n",
       "      <td>8.24</td>\n",
       "      <td>157.24</td>\n",
       "      <td>B</td>\n",
       "      <td>B1</td>\n",
       "      <td>...</td>\n",
       "      <td>NaN</td>\n",
       "      <td>NaN</td>\n",
       "      <td>Cash</td>\n",
       "      <td>N</td>\n",
       "      <td>NaN</td>\n",
       "      <td>NaN</td>\n",
       "      <td>NaN</td>\n",
       "      <td>NaN</td>\n",
       "      <td>NaN</td>\n",
       "      <td>NaN</td>\n",
       "    </tr>\n",
       "    <tr>\n",
       "      <th>10603</th>\n",
       "      <td>97463966</td>\n",
       "      <td>NaN</td>\n",
       "      <td>13200.0</td>\n",
       "      <td>13200.0</td>\n",
       "      <td>13200.0</td>\n",
       "      <td>60 months</td>\n",
       "      <td>13.99</td>\n",
       "      <td>307.08</td>\n",
       "      <td>C</td>\n",
       "      <td>C3</td>\n",
       "      <td>...</td>\n",
       "      <td>NaN</td>\n",
       "      <td>NaN</td>\n",
       "      <td>Cash</td>\n",
       "      <td>N</td>\n",
       "      <td>NaN</td>\n",
       "      <td>NaN</td>\n",
       "      <td>NaN</td>\n",
       "      <td>NaN</td>\n",
       "      <td>NaN</td>\n",
       "      <td>NaN</td>\n",
       "    </tr>\n",
       "    <tr>\n",
       "      <th>10605</th>\n",
       "      <td>96841832</td>\n",
       "      <td>NaN</td>\n",
       "      <td>9500.0</td>\n",
       "      <td>9500.0</td>\n",
       "      <td>9500.0</td>\n",
       "      <td>36 months</td>\n",
       "      <td>8.24</td>\n",
       "      <td>298.75</td>\n",
       "      <td>B</td>\n",
       "      <td>B1</td>\n",
       "      <td>...</td>\n",
       "      <td>NaN</td>\n",
       "      <td>NaN</td>\n",
       "      <td>Cash</td>\n",
       "      <td>N</td>\n",
       "      <td>NaN</td>\n",
       "      <td>NaN</td>\n",
       "      <td>NaN</td>\n",
       "      <td>NaN</td>\n",
       "      <td>NaN</td>\n",
       "      <td>NaN</td>\n",
       "    </tr>\n",
       "    <tr>\n",
       "      <th>...</th>\n",
       "      <td>...</td>\n",
       "      <td>...</td>\n",
       "      <td>...</td>\n",
       "      <td>...</td>\n",
       "      <td>...</td>\n",
       "      <td>...</td>\n",
       "      <td>...</td>\n",
       "      <td>...</td>\n",
       "      <td>...</td>\n",
       "      <td>...</td>\n",
       "      <td>...</td>\n",
       "      <td>...</td>\n",
       "      <td>...</td>\n",
       "      <td>...</td>\n",
       "      <td>...</td>\n",
       "      <td>...</td>\n",
       "      <td>...</td>\n",
       "      <td>...</td>\n",
       "      <td>...</td>\n",
       "      <td>...</td>\n",
       "      <td>...</td>\n",
       "    </tr>\n",
       "    <tr>\n",
       "      <th>10914</th>\n",
       "      <td>95617334</td>\n",
       "      <td>NaN</td>\n",
       "      <td>6500.0</td>\n",
       "      <td>6500.0</td>\n",
       "      <td>6250.0</td>\n",
       "      <td>36 months</td>\n",
       "      <td>5.32</td>\n",
       "      <td>195.75</td>\n",
       "      <td>A</td>\n",
       "      <td>A1</td>\n",
       "      <td>...</td>\n",
       "      <td>NaN</td>\n",
       "      <td>NaN</td>\n",
       "      <td>Cash</td>\n",
       "      <td>N</td>\n",
       "      <td>NaN</td>\n",
       "      <td>NaN</td>\n",
       "      <td>NaN</td>\n",
       "      <td>NaN</td>\n",
       "      <td>NaN</td>\n",
       "      <td>NaN</td>\n",
       "    </tr>\n",
       "    <tr>\n",
       "      <th>10915</th>\n",
       "      <td>95129874</td>\n",
       "      <td>NaN</td>\n",
       "      <td>15000.0</td>\n",
       "      <td>15000.0</td>\n",
       "      <td>15000.0</td>\n",
       "      <td>60 months</td>\n",
       "      <td>15.99</td>\n",
       "      <td>364.70</td>\n",
       "      <td>C</td>\n",
       "      <td>C5</td>\n",
       "      <td>...</td>\n",
       "      <td>NaN</td>\n",
       "      <td>NaN</td>\n",
       "      <td>Cash</td>\n",
       "      <td>N</td>\n",
       "      <td>NaN</td>\n",
       "      <td>NaN</td>\n",
       "      <td>NaN</td>\n",
       "      <td>NaN</td>\n",
       "      <td>NaN</td>\n",
       "      <td>NaN</td>\n",
       "    </tr>\n",
       "    <tr>\n",
       "      <th>10916</th>\n",
       "      <td>96187258</td>\n",
       "      <td>NaN</td>\n",
       "      <td>40000.0</td>\n",
       "      <td>40000.0</td>\n",
       "      <td>40000.0</td>\n",
       "      <td>36 months</td>\n",
       "      <td>7.49</td>\n",
       "      <td>1244.07</td>\n",
       "      <td>A</td>\n",
       "      <td>A4</td>\n",
       "      <td>...</td>\n",
       "      <td>NaN</td>\n",
       "      <td>NaN</td>\n",
       "      <td>Cash</td>\n",
       "      <td>N</td>\n",
       "      <td>NaN</td>\n",
       "      <td>NaN</td>\n",
       "      <td>NaN</td>\n",
       "      <td>NaN</td>\n",
       "      <td>NaN</td>\n",
       "      <td>NaN</td>\n",
       "    </tr>\n",
       "    <tr>\n",
       "      <th>10917</th>\n",
       "      <td>94469381</td>\n",
       "      <td>NaN</td>\n",
       "      <td>5050.0</td>\n",
       "      <td>5050.0</td>\n",
       "      <td>5050.0</td>\n",
       "      <td>36 months</td>\n",
       "      <td>21.49</td>\n",
       "      <td>191.54</td>\n",
       "      <td>D</td>\n",
       "      <td>D5</td>\n",
       "      <td>...</td>\n",
       "      <td>NaN</td>\n",
       "      <td>NaN</td>\n",
       "      <td>Cash</td>\n",
       "      <td>N</td>\n",
       "      <td>NaN</td>\n",
       "      <td>NaN</td>\n",
       "      <td>NaN</td>\n",
       "      <td>NaN</td>\n",
       "      <td>NaN</td>\n",
       "      <td>NaN</td>\n",
       "    </tr>\n",
       "    <tr>\n",
       "      <th>10918</th>\n",
       "      <td>94480548</td>\n",
       "      <td>NaN</td>\n",
       "      <td>7350.0</td>\n",
       "      <td>7350.0</td>\n",
       "      <td>7350.0</td>\n",
       "      <td>36 months</td>\n",
       "      <td>12.74</td>\n",
       "      <td>246.74</td>\n",
       "      <td>C</td>\n",
       "      <td>C1</td>\n",
       "      <td>...</td>\n",
       "      <td>NaN</td>\n",
       "      <td>NaN</td>\n",
       "      <td>Cash</td>\n",
       "      <td>N</td>\n",
       "      <td>NaN</td>\n",
       "      <td>NaN</td>\n",
       "      <td>NaN</td>\n",
       "      <td>NaN</td>\n",
       "      <td>NaN</td>\n",
       "      <td>NaN</td>\n",
       "    </tr>\n",
       "  </tbody>\n",
       "</table>\n",
       "<p>309 rows × 150 columns</p>\n",
       "</div>"
      ],
      "text/plain": [
       "             id  member_id  loan_amnt  funded_amnt  funded_amnt_inv  \\\n",
       "10599  96596008        NaN    15000.0      15000.0          15000.0   \n",
       "10601  96703051        NaN    14575.0      14575.0          14575.0   \n",
       "10602  96960509        NaN     5000.0       5000.0           5000.0   \n",
       "10603  97463966        NaN    13200.0      13200.0          13200.0   \n",
       "10605  96841832        NaN     9500.0       9500.0           9500.0   \n",
       "...         ...        ...        ...          ...              ...   \n",
       "10914  95617334        NaN     6500.0       6500.0           6250.0   \n",
       "10915  95129874        NaN    15000.0      15000.0          15000.0   \n",
       "10916  96187258        NaN    40000.0      40000.0          40000.0   \n",
       "10917  94469381        NaN     5050.0       5050.0           5050.0   \n",
       "10918  94480548        NaN     7350.0       7350.0           7350.0   \n",
       "\n",
       "             term  int_rate  installment grade sub_grade  ...  \\\n",
       "10599   36 months     15.99       527.29     C        C5  ...   \n",
       "10601   36 months     25.49       583.29     E        E4  ...   \n",
       "10602   36 months      8.24       157.24     B        B1  ...   \n",
       "10603   60 months     13.99       307.08     C        C3  ...   \n",
       "10605   36 months      8.24       298.75     B        B1  ...   \n",
       "...           ...       ...          ...   ...       ...  ...   \n",
       "10914   36 months      5.32       195.75     A        A1  ...   \n",
       "10915   60 months     15.99       364.70     C        C5  ...   \n",
       "10916   36 months      7.49      1244.07     A        A4  ...   \n",
       "10917   36 months     21.49       191.54     D        D5  ...   \n",
       "10918   36 months     12.74       246.74     C        C1  ...   \n",
       "\n",
       "      hardship_payoff_balance_amount hardship_last_payment_amount  \\\n",
       "10599                            NaN                          NaN   \n",
       "10601                            NaN                          NaN   \n",
       "10602                            NaN                          NaN   \n",
       "10603                            NaN                          NaN   \n",
       "10605                            NaN                          NaN   \n",
       "...                              ...                          ...   \n",
       "10914                            NaN                          NaN   \n",
       "10915                            NaN                          NaN   \n",
       "10916                            NaN                          NaN   \n",
       "10917                            NaN                          NaN   \n",
       "10918                            NaN                          NaN   \n",
       "\n",
       "      disbursement_method  debt_settlement_flag debt_settlement_flag_date  \\\n",
       "10599                Cash                     N                       NaN   \n",
       "10601                Cash                     N                       NaN   \n",
       "10602                Cash                     N                       NaN   \n",
       "10603                Cash                     N                       NaN   \n",
       "10605                Cash                     N                       NaN   \n",
       "...                   ...                   ...                       ...   \n",
       "10914                Cash                     N                       NaN   \n",
       "10915                Cash                     N                       NaN   \n",
       "10916                Cash                     N                       NaN   \n",
       "10917                Cash                     N                       NaN   \n",
       "10918                Cash                     N                       NaN   \n",
       "\n",
       "      settlement_status settlement_date settlement_amount  \\\n",
       "10599               NaN             NaN               NaN   \n",
       "10601               NaN             NaN               NaN   \n",
       "10602               NaN             NaN               NaN   \n",
       "10603               NaN             NaN               NaN   \n",
       "10605               NaN             NaN               NaN   \n",
       "...                 ...             ...               ...   \n",
       "10914               NaN             NaN               NaN   \n",
       "10915               NaN             NaN               NaN   \n",
       "10916               NaN             NaN               NaN   \n",
       "10917               NaN             NaN               NaN   \n",
       "10918               NaN             NaN               NaN   \n",
       "\n",
       "      settlement_percentage settlement_term  \n",
       "10599                   NaN             NaN  \n",
       "10601                   NaN             NaN  \n",
       "10602                   NaN             NaN  \n",
       "10603                   NaN             NaN  \n",
       "10605                   NaN             NaN  \n",
       "...                     ...             ...  \n",
       "10914                   NaN             NaN  \n",
       "10915                   NaN             NaN  \n",
       "10916                   NaN             NaN  \n",
       "10917                   NaN             NaN  \n",
       "10918                   NaN             NaN  \n",
       "\n",
       "[309 rows x 150 columns]"
      ]
     },
     "execution_count": 4,
     "metadata": {},
     "output_type": "execute_result"
    }
   ],
   "source": [
    "full_data = pd.read_csv(os.path.join(data_file))\n",
    "full_data['issue_d'].describe()\n",
    "\n",
    "data = full_data[full_data['issue_d'] == 'Jan-2017']\n",
    "data"
   ]
  },
  {
   "cell_type": "markdown",
   "metadata": {},
   "source": [
    "### Noteworthy Lending Club dataset variables\n",
    "\n",
    "**`emp_length` (categorical, string)**:\n",
    "> length of employment in years as text entry\n",
    "\n",
    "**`annual_inc` (numeric)**:\n",
    "> the self-reported annual income provided by the borrower during registration\n",
    "\n",
    "**`dti` (numeric)**:\n",
    "> ratio calculated using the borrower’s total monthly debt payments on the total debt obligations, excluding mortgage and the requested LC loan, divided by the borrower’s self-reported monthly income\n",
    "\n",
    "**`issue_d` (timestamp, string)**:\n",
    "> the month (and year) which the loan was funded -- useful for backfilling data"
   ]
  },
  {
   "cell_type": "markdown",
   "metadata": {},
   "source": [
    "## Running WhyLogs for logging a single dataset\n",
    "\n",
    "Let's now explore import a function from Why Labs that allows us to create a logging session.\n",
    "\n",
    "This session can be connected with multiple writers that output the results of our profiling locally in JSON, a flat CSV, or binary protobuf format as well as writers to an AWS S3 bucket in the cloud. Further writing functionality will be added as well.\n",
    "\n",
    "Let's create a default session below."
   ]
  },
  {
   "cell_type": "code",
   "execution_count": 5,
   "metadata": {},
   "outputs": [],
   "source": [
    "from whylogs import get_or_create_session\n",
    "\n",
    "session = get_or_create_session()"
   ]
  },
  {
   "cell_type": "markdown",
   "metadata": {},
   "source": [
    "# Quickly log a dataframe\n",
    "\n",
    "You can call `log_dataframe` to quickly log a Pandas dataframe"
   ]
  },
  {
   "cell_type": "code",
   "execution_count": 6,
   "metadata": {},
   "outputs": [
    {
     "data": {
      "text/plain": [
       "<whylogs.core.datasetprofile.DatasetProfile at 0x7f7f93d3fee0>"
      ]
     },
     "execution_count": 6,
     "metadata": {},
     "output_type": "execute_result"
    }
   ],
   "source": [
    "session.log_dataframe(data.head(100), 'demo')"
   ]
  },
  {
   "cell_type": "markdown",
   "metadata": {},
   "source": [
    "Now that we've logged our dataset, we can see the output of the WhyLogs profiling process in created directory. Inside of our original directory, the WhyLogs logger creates an `output` directory containing folders for our named dataset `demo` and the associated timestamp. Inside, we see the what has been logged."
   ]
  },
  {
   "cell_type": "code",
   "execution_count": 7,
   "metadata": {},
   "outputs": [
    {
     "name": "stdout",
     "output_type": "stream",
     "text": [
      "Current working directory: /Users/bernease/repos/whylogs-examples/python\n"
     ]
    }
   ],
   "source": [
    "print(\"Current working directory:\", os.getcwd())"
   ]
  },
  {
   "cell_type": "markdown",
   "metadata": {},
   "source": [
    "# WhyLogs output\n",
    "\n",
    "Using the Logger API you get a specific output structure."
   ]
  },
  {
   "cell_type": "code",
   "execution_count": 8,
   "metadata": {},
   "outputs": [
    {
     "name": "stdout",
     "output_type": "stream",
     "text": [
      "\u001b[01;34mwhylogs-output\u001b[00m\r\n",
      "└── \u001b[01;34mdemo\u001b[00m\r\n",
      "    ├── \u001b[01;34mdataset_profile\u001b[00m\r\n",
      "    │   └── \u001b[01;34mprotobuf\u001b[00m\r\n",
      "    │       └── datase_profile-batch.bin\r\n",
      "    └── \u001b[01;34mdataset_summary\u001b[00m\r\n",
      "        ├── \u001b[01;34mflat_table\u001b[00m\r\n",
      "        │   └── dataset_summary-batch.csv\r\n",
      "        ├── \u001b[01;34mfreq_numbers\u001b[00m\r\n",
      "        │   └── dataset_summary-batch.json\r\n",
      "        ├── \u001b[01;34mfrequent_strings\u001b[00m\r\n",
      "        │   └── dataset_summary-batch.json\r\n",
      "        ├── \u001b[01;34mhistogram\u001b[00m\r\n",
      "        │   └── dataset_summary-batch.json\r\n",
      "        └── \u001b[01;34mjson\u001b[00m\r\n",
      "            └── dataset_summary-batch.json\r\n",
      "\r\n",
      "9 directories, 6 files\r\n"
     ]
    }
   ],
   "source": [
    "!tree whylogs-output"
   ]
  },
  {
   "cell_type": "markdown",
   "metadata": {},
   "source": [
    "## Using Logger API\n",
    "Logger API can be used to log data as well. The data stays in memory until you call `.close()` explicitly, using `with` statement."
   ]
  },
  {
   "cell_type": "code",
   "execution_count": 9,
   "metadata": {},
   "outputs": [],
   "source": [
    "with session.logger(dataset_name=\"another-dataset\", dataset_timestamp=datetime.datetime(2020, 9, 22, 0, 0)) as logger:\n",
    "    logger.log_dataframe(data)"
   ]
  },
  {
   "cell_type": "markdown",
   "metadata": {},
   "source": [
    "Here you can see the output having datetime as the suffix"
   ]
  },
  {
   "cell_type": "code",
   "execution_count": 10,
   "metadata": {},
   "outputs": [
    {
     "name": "stdout",
     "output_type": "stream",
     "text": [
      "\u001b[01;34mwhylogs-output\u001b[00m\r\n",
      "├── \u001b[01;34manother-dataset\u001b[00m\r\n",
      "│   ├── \u001b[01;34mdataset_profile\u001b[00m\r\n",
      "│   │   └── \u001b[01;34mprotobuf\u001b[00m\r\n",
      "│   │       └── datase_profile-1600732800000.bin\r\n",
      "│   └── \u001b[01;34mdataset_summary\u001b[00m\r\n",
      "│       ├── \u001b[01;34mflat_table\u001b[00m\r\n",
      "│       │   └── dataset_summary-1600732800000.csv\r\n",
      "│       ├── \u001b[01;34mfreq_numbers\u001b[00m\r\n",
      "│       │   └── dataset_summary-1600732800000.json\r\n",
      "│       ├── \u001b[01;34mfrequent_strings\u001b[00m\r\n",
      "│       │   └── dataset_summary-1600732800000.json\r\n",
      "│       ├── \u001b[01;34mhistogram\u001b[00m\r\n",
      "│       │   └── dataset_summary-1600732800000.json\r\n",
      "│       └── \u001b[01;34mjson\u001b[00m\r\n",
      "│           └── dataset_summary-1600732800000.json\r\n",
      "└── \u001b[01;34mdemo\u001b[00m\r\n",
      "    ├── \u001b[01;34mdataset_profile\u001b[00m\r\n",
      "    │   └── \u001b[01;34mprotobuf\u001b[00m\r\n",
      "    │       └── datase_profile-batch.bin\r\n",
      "    └── \u001b[01;34mdataset_summary\u001b[00m\r\n",
      "        ├── \u001b[01;34mflat_table\u001b[00m\r\n",
      "        │   └── dataset_summary-batch.csv\r\n",
      "        ├── \u001b[01;34mfreq_numbers\u001b[00m\r\n",
      "        │   └── dataset_summary-batch.json\r\n",
      "        ├── \u001b[01;34mfrequent_strings\u001b[00m\r\n",
      "        │   └── dataset_summary-batch.json\r\n",
      "        ├── \u001b[01;34mhistogram\u001b[00m\r\n",
      "        │   └── dataset_summary-batch.json\r\n",
      "        └── \u001b[01;34mjson\u001b[00m\r\n",
      "            └── dataset_summary-batch.json\r\n",
      "\r\n",
      "18 directories, 12 files\r\n"
     ]
    }
   ],
   "source": [
    "!tree whylogs-output"
   ]
  },
  {
   "cell_type": "markdown",
   "metadata": {},
   "source": [
    "## Using Dataset Profile\n",
    "\n",
    "Instead of interacting with the Logger, which writes to disk, sometimes you want to interact  with a `DatasetProfil` object.\n",
    "\n",
    "In that case, you can use the `session.new_profile` to get an empty profile"
   ]
  },
  {
   "cell_type": "code",
   "execution_count": 11,
   "metadata": {},
   "outputs": [],
   "source": [
    "profile = session.new_profile(dataset_name=\"in-memory\", \n",
    "                              dataset_timestamp=datetime.datetime(2020, 9, 22, 0, 0))"
   ]
  },
  {
   "cell_type": "markdown",
   "metadata": {},
   "source": [
    "## Profiling a DataFrame"
   ]
  },
  {
   "cell_type": "code",
   "execution_count": 12,
   "metadata": {},
   "outputs": [],
   "source": [
    "profile.track_dataframe(data)"
   ]
  },
  {
   "cell_type": "markdown",
   "metadata": {},
   "source": [
    "This DatasetProfile object, stored in the `profile` variable, can now be referenced from Python.\n",
    "\n",
    "This object contains helpful information about the profile, such as the session ID, the dates associated with both the data and session, and user-specified metadata and tags."
   ]
  },
  {
   "cell_type": "markdown",
   "metadata": {},
   "source": [
    "First, let's transform the dataset profile into the flat summary form. Unlike the binary `protobuf.bin` file and the hierarchical `whylogs.json` file that was written using the logger, the summary format makes it much easier to analyze and run data science processes on the data. This structure is much more flat, a table format or a single depth dictionary format organized by variable.\n",
    "\n",
    "These less hierarchical formats were also created with the `log_dataframe` functionality and can be found in the `summary_summary.csv`, `summary_histogram.json` and `summary_strings.json` files."
   ]
  },
  {
   "cell_type": "code",
   "execution_count": 13,
   "metadata": {},
   "outputs": [],
   "source": [
    "summaries = profile.flat_summary()"
   ]
  },
  {
   "cell_type": "markdown",
   "metadata": {},
   "source": [
    "Let's first look at the overall summary for the profiled dataset."
   ]
  },
  {
   "cell_type": "code",
   "execution_count": 14,
   "metadata": {
    "scrolled": true
   },
   "outputs": [
    {
     "data": {
      "text/html": [
       "<div>\n",
       "<style scoped>\n",
       "    .dataframe tbody tr th:only-of-type {\n",
       "        vertical-align: middle;\n",
       "    }\n",
       "\n",
       "    .dataframe tbody tr th {\n",
       "        vertical-align: top;\n",
       "    }\n",
       "\n",
       "    .dataframe thead th {\n",
       "        text-align: right;\n",
       "    }\n",
       "</style>\n",
       "<table border=\"1\" class=\"dataframe\">\n",
       "  <thead>\n",
       "    <tr style=\"text-align: right;\">\n",
       "      <th></th>\n",
       "      <th>column</th>\n",
       "      <th>count</th>\n",
       "      <th>null_count</th>\n",
       "      <th>bool_count</th>\n",
       "      <th>numeric_count</th>\n",
       "      <th>max</th>\n",
       "      <th>mean</th>\n",
       "      <th>min</th>\n",
       "      <th>stddev</th>\n",
       "      <th>nunique_numbers</th>\n",
       "      <th>...</th>\n",
       "      <th>ununique_str_upper</th>\n",
       "      <th>quantile_0.0000</th>\n",
       "      <th>quantile_0.0100</th>\n",
       "      <th>quantile_0.0500</th>\n",
       "      <th>quantile_0.2500</th>\n",
       "      <th>quantile_0.5000</th>\n",
       "      <th>quantile_0.7500</th>\n",
       "      <th>quantile_0.9500</th>\n",
       "      <th>quantile_0.9900</th>\n",
       "      <th>quantile_1.0000</th>\n",
       "    </tr>\n",
       "  </thead>\n",
       "  <tbody>\n",
       "    <tr>\n",
       "      <th>0</th>\n",
       "      <td>hardship_reason</td>\n",
       "      <td>309.0</td>\n",
       "      <td>0.0</td>\n",
       "      <td>0.0</td>\n",
       "      <td>0.0</td>\n",
       "      <td>0.0</td>\n",
       "      <td>0.000000</td>\n",
       "      <td>0.0</td>\n",
       "      <td>0.000000</td>\n",
       "      <td>0.0</td>\n",
       "      <td>...</td>\n",
       "      <td>0.0</td>\n",
       "      <td>NaN</td>\n",
       "      <td>NaN</td>\n",
       "      <td>NaN</td>\n",
       "      <td>NaN</td>\n",
       "      <td>NaN</td>\n",
       "      <td>NaN</td>\n",
       "      <td>NaN</td>\n",
       "      <td>NaN</td>\n",
       "      <td>NaN</td>\n",
       "    </tr>\n",
       "    <tr>\n",
       "      <th>1</th>\n",
       "      <td>home_ownership</td>\n",
       "      <td>309.0</td>\n",
       "      <td>0.0</td>\n",
       "      <td>0.0</td>\n",
       "      <td>0.0</td>\n",
       "      <td>0.0</td>\n",
       "      <td>0.000000</td>\n",
       "      <td>0.0</td>\n",
       "      <td>0.000000</td>\n",
       "      <td>0.0</td>\n",
       "      <td>...</td>\n",
       "      <td>4.0</td>\n",
       "      <td>NaN</td>\n",
       "      <td>NaN</td>\n",
       "      <td>NaN</td>\n",
       "      <td>NaN</td>\n",
       "      <td>NaN</td>\n",
       "      <td>NaN</td>\n",
       "      <td>NaN</td>\n",
       "      <td>NaN</td>\n",
       "      <td>NaN</td>\n",
       "    </tr>\n",
       "    <tr>\n",
       "      <th>2</th>\n",
       "      <td>sec_app_fico_range_low</td>\n",
       "      <td>309.0</td>\n",
       "      <td>0.0</td>\n",
       "      <td>0.0</td>\n",
       "      <td>0.0</td>\n",
       "      <td>0.0</td>\n",
       "      <td>0.000000</td>\n",
       "      <td>0.0</td>\n",
       "      <td>0.000000</td>\n",
       "      <td>0.0</td>\n",
       "      <td>...</td>\n",
       "      <td>0.0</td>\n",
       "      <td>NaN</td>\n",
       "      <td>NaN</td>\n",
       "      <td>NaN</td>\n",
       "      <td>NaN</td>\n",
       "      <td>NaN</td>\n",
       "      <td>NaN</td>\n",
       "      <td>NaN</td>\n",
       "      <td>NaN</td>\n",
       "      <td>NaN</td>\n",
       "    </tr>\n",
       "    <tr>\n",
       "      <th>3</th>\n",
       "      <td>sec_app_num_rev_accts</td>\n",
       "      <td>309.0</td>\n",
       "      <td>0.0</td>\n",
       "      <td>0.0</td>\n",
       "      <td>0.0</td>\n",
       "      <td>0.0</td>\n",
       "      <td>0.000000</td>\n",
       "      <td>0.0</td>\n",
       "      <td>0.000000</td>\n",
       "      <td>0.0</td>\n",
       "      <td>...</td>\n",
       "      <td>0.0</td>\n",
       "      <td>NaN</td>\n",
       "      <td>NaN</td>\n",
       "      <td>NaN</td>\n",
       "      <td>NaN</td>\n",
       "      <td>NaN</td>\n",
       "      <td>NaN</td>\n",
       "      <td>NaN</td>\n",
       "      <td>NaN</td>\n",
       "      <td>NaN</td>\n",
       "    </tr>\n",
       "    <tr>\n",
       "      <th>4</th>\n",
       "      <td>mths_since_recent_inq</td>\n",
       "      <td>309.0</td>\n",
       "      <td>0.0</td>\n",
       "      <td>0.0</td>\n",
       "      <td>271.0</td>\n",
       "      <td>24.0</td>\n",
       "      <td>7.579336</td>\n",
       "      <td>0.0</td>\n",
       "      <td>5.727789</td>\n",
       "      <td>25.0</td>\n",
       "      <td>...</td>\n",
       "      <td>0.0</td>\n",
       "      <td>0.000000</td>\n",
       "      <td>0.0</td>\n",
       "      <td>0.000000</td>\n",
       "      <td>3.000000</td>\n",
       "      <td>6.000000</td>\n",
       "      <td>11.000000</td>\n",
       "      <td>20.000000</td>\n",
       "      <td>22.000000</td>\n",
       "      <td>24.000000</td>\n",
       "    </tr>\n",
       "    <tr>\n",
       "      <th>...</th>\n",
       "      <td>...</td>\n",
       "      <td>...</td>\n",
       "      <td>...</td>\n",
       "      <td>...</td>\n",
       "      <td>...</td>\n",
       "      <td>...</td>\n",
       "      <td>...</td>\n",
       "      <td>...</td>\n",
       "      <td>...</td>\n",
       "      <td>...</td>\n",
       "      <td>...</td>\n",
       "      <td>...</td>\n",
       "      <td>...</td>\n",
       "      <td>...</td>\n",
       "      <td>...</td>\n",
       "      <td>...</td>\n",
       "      <td>...</td>\n",
       "      <td>...</td>\n",
       "      <td>...</td>\n",
       "      <td>...</td>\n",
       "      <td>...</td>\n",
       "    </tr>\n",
       "    <tr>\n",
       "      <th>145</th>\n",
       "      <td>sec_app_fico_range_high</td>\n",
       "      <td>309.0</td>\n",
       "      <td>0.0</td>\n",
       "      <td>0.0</td>\n",
       "      <td>0.0</td>\n",
       "      <td>0.0</td>\n",
       "      <td>0.000000</td>\n",
       "      <td>0.0</td>\n",
       "      <td>0.000000</td>\n",
       "      <td>0.0</td>\n",
       "      <td>...</td>\n",
       "      <td>0.0</td>\n",
       "      <td>NaN</td>\n",
       "      <td>NaN</td>\n",
       "      <td>NaN</td>\n",
       "      <td>NaN</td>\n",
       "      <td>NaN</td>\n",
       "      <td>NaN</td>\n",
       "      <td>NaN</td>\n",
       "      <td>NaN</td>\n",
       "      <td>NaN</td>\n",
       "    </tr>\n",
       "    <tr>\n",
       "      <th>146</th>\n",
       "      <td>funded_amnt</td>\n",
       "      <td>309.0</td>\n",
       "      <td>0.0</td>\n",
       "      <td>0.0</td>\n",
       "      <td>309.0</td>\n",
       "      <td>40000.0</td>\n",
       "      <td>14511.407767</td>\n",
       "      <td>1000.0</td>\n",
       "      <td>9011.801950</td>\n",
       "      <td>117.0</td>\n",
       "      <td>...</td>\n",
       "      <td>0.0</td>\n",
       "      <td>1000.000000</td>\n",
       "      <td>1400.0</td>\n",
       "      <td>3500.000000</td>\n",
       "      <td>7500.000000</td>\n",
       "      <td>12000.000000</td>\n",
       "      <td>20000.000000</td>\n",
       "      <td>35000.000000</td>\n",
       "      <td>36000.000000</td>\n",
       "      <td>40000.000000</td>\n",
       "    </tr>\n",
       "    <tr>\n",
       "      <th>147</th>\n",
       "      <td>pct_tl_nvr_dlq</td>\n",
       "      <td>309.0</td>\n",
       "      <td>0.0</td>\n",
       "      <td>0.0</td>\n",
       "      <td>309.0</td>\n",
       "      <td>100.0</td>\n",
       "      <td>93.916828</td>\n",
       "      <td>33.3</td>\n",
       "      <td>9.528527</td>\n",
       "      <td>77.0</td>\n",
       "      <td>...</td>\n",
       "      <td>0.0</td>\n",
       "      <td>33.299999</td>\n",
       "      <td>50.0</td>\n",
       "      <td>73.300003</td>\n",
       "      <td>91.900002</td>\n",
       "      <td>97.699997</td>\n",
       "      <td>100.000000</td>\n",
       "      <td>100.000000</td>\n",
       "      <td>100.000000</td>\n",
       "      <td>100.000000</td>\n",
       "    </tr>\n",
       "    <tr>\n",
       "      <th>148</th>\n",
       "      <td>bc_util</td>\n",
       "      <td>309.0</td>\n",
       "      <td>0.0</td>\n",
       "      <td>0.0</td>\n",
       "      <td>305.0</td>\n",
       "      <td>110.1</td>\n",
       "      <td>55.580000</td>\n",
       "      <td>0.0</td>\n",
       "      <td>27.979932</td>\n",
       "      <td>269.0</td>\n",
       "      <td>...</td>\n",
       "      <td>0.0</td>\n",
       "      <td>0.000000</td>\n",
       "      <td>1.0</td>\n",
       "      <td>10.200000</td>\n",
       "      <td>33.400002</td>\n",
       "      <td>56.599998</td>\n",
       "      <td>77.800003</td>\n",
       "      <td>97.800003</td>\n",
       "      <td>99.400002</td>\n",
       "      <td>110.099998</td>\n",
       "    </tr>\n",
       "    <tr>\n",
       "      <th>149</th>\n",
       "      <td>sec_app_open_acc</td>\n",
       "      <td>309.0</td>\n",
       "      <td>0.0</td>\n",
       "      <td>0.0</td>\n",
       "      <td>0.0</td>\n",
       "      <td>0.0</td>\n",
       "      <td>0.000000</td>\n",
       "      <td>0.0</td>\n",
       "      <td>0.000000</td>\n",
       "      <td>0.0</td>\n",
       "      <td>...</td>\n",
       "      <td>0.0</td>\n",
       "      <td>NaN</td>\n",
       "      <td>NaN</td>\n",
       "      <td>NaN</td>\n",
       "      <td>NaN</td>\n",
       "      <td>NaN</td>\n",
       "      <td>NaN</td>\n",
       "      <td>NaN</td>\n",
       "      <td>NaN</td>\n",
       "      <td>NaN</td>\n",
       "    </tr>\n",
       "  </tbody>\n",
       "</table>\n",
       "<p>150 rows × 32 columns</p>\n",
       "</div>"
      ],
      "text/plain": [
       "                      column  count  null_count  bool_count  numeric_count  \\\n",
       "0            hardship_reason  309.0         0.0         0.0            0.0   \n",
       "1             home_ownership  309.0         0.0         0.0            0.0   \n",
       "2     sec_app_fico_range_low  309.0         0.0         0.0            0.0   \n",
       "3      sec_app_num_rev_accts  309.0         0.0         0.0            0.0   \n",
       "4      mths_since_recent_inq  309.0         0.0         0.0          271.0   \n",
       "..                       ...    ...         ...         ...            ...   \n",
       "145  sec_app_fico_range_high  309.0         0.0         0.0            0.0   \n",
       "146              funded_amnt  309.0         0.0         0.0          309.0   \n",
       "147           pct_tl_nvr_dlq  309.0         0.0         0.0          309.0   \n",
       "148                  bc_util  309.0         0.0         0.0          305.0   \n",
       "149         sec_app_open_acc  309.0         0.0         0.0            0.0   \n",
       "\n",
       "         max          mean     min       stddev  nunique_numbers  ...  \\\n",
       "0        0.0      0.000000     0.0     0.000000              0.0  ...   \n",
       "1        0.0      0.000000     0.0     0.000000              0.0  ...   \n",
       "2        0.0      0.000000     0.0     0.000000              0.0  ...   \n",
       "3        0.0      0.000000     0.0     0.000000              0.0  ...   \n",
       "4       24.0      7.579336     0.0     5.727789             25.0  ...   \n",
       "..       ...           ...     ...          ...              ...  ...   \n",
       "145      0.0      0.000000     0.0     0.000000              0.0  ...   \n",
       "146  40000.0  14511.407767  1000.0  9011.801950            117.0  ...   \n",
       "147    100.0     93.916828    33.3     9.528527             77.0  ...   \n",
       "148    110.1     55.580000     0.0    27.979932            269.0  ...   \n",
       "149      0.0      0.000000     0.0     0.000000              0.0  ...   \n",
       "\n",
       "     ununique_str_upper  quantile_0.0000  quantile_0.0100  quantile_0.0500  \\\n",
       "0                   0.0              NaN              NaN              NaN   \n",
       "1                   4.0              NaN              NaN              NaN   \n",
       "2                   0.0              NaN              NaN              NaN   \n",
       "3                   0.0              NaN              NaN              NaN   \n",
       "4                   0.0         0.000000              0.0         0.000000   \n",
       "..                  ...              ...              ...              ...   \n",
       "145                 0.0              NaN              NaN              NaN   \n",
       "146                 0.0      1000.000000           1400.0      3500.000000   \n",
       "147                 0.0        33.299999             50.0        73.300003   \n",
       "148                 0.0         0.000000              1.0        10.200000   \n",
       "149                 0.0              NaN              NaN              NaN   \n",
       "\n",
       "     quantile_0.2500  quantile_0.5000  quantile_0.7500  quantile_0.9500  \\\n",
       "0                NaN              NaN              NaN              NaN   \n",
       "1                NaN              NaN              NaN              NaN   \n",
       "2                NaN              NaN              NaN              NaN   \n",
       "3                NaN              NaN              NaN              NaN   \n",
       "4           3.000000         6.000000        11.000000        20.000000   \n",
       "..               ...              ...              ...              ...   \n",
       "145              NaN              NaN              NaN              NaN   \n",
       "146      7500.000000     12000.000000     20000.000000     35000.000000   \n",
       "147        91.900002        97.699997       100.000000       100.000000   \n",
       "148        33.400002        56.599998        77.800003        97.800003   \n",
       "149              NaN              NaN              NaN              NaN   \n",
       "\n",
       "     quantile_0.9900  quantile_1.0000  \n",
       "0                NaN              NaN  \n",
       "1                NaN              NaN  \n",
       "2                NaN              NaN  \n",
       "3                NaN              NaN  \n",
       "4          22.000000        24.000000  \n",
       "..               ...              ...  \n",
       "145              NaN              NaN  \n",
       "146     36000.000000     40000.000000  \n",
       "147       100.000000       100.000000  \n",
       "148        99.400002       110.099998  \n",
       "149              NaN              NaN  \n",
       "\n",
       "[150 rows x 32 columns]"
      ]
     },
     "execution_count": 14,
     "metadata": {},
     "output_type": "execute_result"
    }
   ],
   "source": [
    "summary = summaries['summary']\n",
    "summary"
   ]
  },
  {
   "cell_type": "markdown",
   "metadata": {},
   "source": [
    "We can see that this summary object is much smaller at **roughly 150 rows x 32 columns** than the original dataset at **1000 rows x 151 columns**. Smaller storage sizes are important in reducing costs and making it easier for your data scientists to complete monitoring and post-analysis on large amounts of data."
   ]
  },
  {
   "cell_type": "markdown",
   "metadata": {},
   "source": [
    "Each row of our flat profile summary contains under column the name of the variable found in the dataset.\n",
    "\n",
    "We can also see a number of useful metrics as columns in our summary: descriptive statistics, type information, unique estimates and bounds, as well as specially formulated metrics like inferred_dtype and dtype_fraction."
   ]
  },
  {
   "cell_type": "markdown",
   "metadata": {},
   "source": [
    "Let's explore the output of WhyLogs for a few of the variables we mentioned earlier. For example, let's look at the  `funded_amnt` variable."
   ]
  },
  {
   "cell_type": "code",
   "execution_count": 15,
   "metadata": {},
   "outputs": [
    {
     "data": {
      "text/html": [
       "<div>\n",
       "<style scoped>\n",
       "    .dataframe tbody tr th:only-of-type {\n",
       "        vertical-align: middle;\n",
       "    }\n",
       "\n",
       "    .dataframe tbody tr th {\n",
       "        vertical-align: top;\n",
       "    }\n",
       "\n",
       "    .dataframe thead th {\n",
       "        text-align: right;\n",
       "    }\n",
       "</style>\n",
       "<table border=\"1\" class=\"dataframe\">\n",
       "  <thead>\n",
       "    <tr style=\"text-align: right;\">\n",
       "      <th></th>\n",
       "      <th>146</th>\n",
       "    </tr>\n",
       "  </thead>\n",
       "  <tbody>\n",
       "    <tr>\n",
       "      <th>column</th>\n",
       "      <td>funded_amnt</td>\n",
       "    </tr>\n",
       "    <tr>\n",
       "      <th>count</th>\n",
       "      <td>309</td>\n",
       "    </tr>\n",
       "    <tr>\n",
       "      <th>null_count</th>\n",
       "      <td>0</td>\n",
       "    </tr>\n",
       "    <tr>\n",
       "      <th>bool_count</th>\n",
       "      <td>0</td>\n",
       "    </tr>\n",
       "    <tr>\n",
       "      <th>numeric_count</th>\n",
       "      <td>309</td>\n",
       "    </tr>\n",
       "    <tr>\n",
       "      <th>max</th>\n",
       "      <td>40000</td>\n",
       "    </tr>\n",
       "    <tr>\n",
       "      <th>mean</th>\n",
       "      <td>14511.4</td>\n",
       "    </tr>\n",
       "    <tr>\n",
       "      <th>min</th>\n",
       "      <td>1000</td>\n",
       "    </tr>\n",
       "    <tr>\n",
       "      <th>stddev</th>\n",
       "      <td>9011.8</td>\n",
       "    </tr>\n",
       "    <tr>\n",
       "      <th>nunique_numbers</th>\n",
       "      <td>117</td>\n",
       "    </tr>\n",
       "    <tr>\n",
       "      <th>nunique_numbers_lower</th>\n",
       "      <td>117</td>\n",
       "    </tr>\n",
       "    <tr>\n",
       "      <th>nunique_numbers_upper</th>\n",
       "      <td>117</td>\n",
       "    </tr>\n",
       "    <tr>\n",
       "      <th>inferred_dtype</th>\n",
       "      <td>2</td>\n",
       "    </tr>\n",
       "    <tr>\n",
       "      <th>dtype_fraction</th>\n",
       "      <td>1</td>\n",
       "    </tr>\n",
       "    <tr>\n",
       "      <th>type_unknown_count</th>\n",
       "      <td>0</td>\n",
       "    </tr>\n",
       "    <tr>\n",
       "      <th>type_null_count</th>\n",
       "      <td>0</td>\n",
       "    </tr>\n",
       "    <tr>\n",
       "      <th>type_fractional_count</th>\n",
       "      <td>309</td>\n",
       "    </tr>\n",
       "    <tr>\n",
       "      <th>type_integral_count</th>\n",
       "      <td>0</td>\n",
       "    </tr>\n",
       "    <tr>\n",
       "      <th>type_boolean_count</th>\n",
       "      <td>0</td>\n",
       "    </tr>\n",
       "    <tr>\n",
       "      <th>type_string_count</th>\n",
       "      <td>0</td>\n",
       "    </tr>\n",
       "    <tr>\n",
       "      <th>nunique_str</th>\n",
       "      <td>0</td>\n",
       "    </tr>\n",
       "    <tr>\n",
       "      <th>nunique_str_lower</th>\n",
       "      <td>0</td>\n",
       "    </tr>\n",
       "    <tr>\n",
       "      <th>ununique_str_upper</th>\n",
       "      <td>0</td>\n",
       "    </tr>\n",
       "    <tr>\n",
       "      <th>quantile_0.0000</th>\n",
       "      <td>1000</td>\n",
       "    </tr>\n",
       "    <tr>\n",
       "      <th>quantile_0.0100</th>\n",
       "      <td>1400</td>\n",
       "    </tr>\n",
       "    <tr>\n",
       "      <th>quantile_0.0500</th>\n",
       "      <td>3500</td>\n",
       "    </tr>\n",
       "    <tr>\n",
       "      <th>quantile_0.2500</th>\n",
       "      <td>7500</td>\n",
       "    </tr>\n",
       "    <tr>\n",
       "      <th>quantile_0.5000</th>\n",
       "      <td>12000</td>\n",
       "    </tr>\n",
       "    <tr>\n",
       "      <th>quantile_0.7500</th>\n",
       "      <td>20000</td>\n",
       "    </tr>\n",
       "    <tr>\n",
       "      <th>quantile_0.9500</th>\n",
       "      <td>35000</td>\n",
       "    </tr>\n",
       "    <tr>\n",
       "      <th>quantile_0.9900</th>\n",
       "      <td>36000</td>\n",
       "    </tr>\n",
       "    <tr>\n",
       "      <th>quantile_1.0000</th>\n",
       "      <td>40000</td>\n",
       "    </tr>\n",
       "  </tbody>\n",
       "</table>\n",
       "</div>"
      ],
      "text/plain": [
       "                               146\n",
       "column                 funded_amnt\n",
       "count                          309\n",
       "null_count                       0\n",
       "bool_count                       0\n",
       "numeric_count                  309\n",
       "max                          40000\n",
       "mean                       14511.4\n",
       "min                           1000\n",
       "stddev                      9011.8\n",
       "nunique_numbers                117\n",
       "nunique_numbers_lower          117\n",
       "nunique_numbers_upper          117\n",
       "inferred_dtype                   2\n",
       "dtype_fraction                   1\n",
       "type_unknown_count               0\n",
       "type_null_count                  0\n",
       "type_fractional_count          309\n",
       "type_integral_count              0\n",
       "type_boolean_count               0\n",
       "type_string_count                0\n",
       "nunique_str                      0\n",
       "nunique_str_lower                0\n",
       "ununique_str_upper               0\n",
       "quantile_0.0000               1000\n",
       "quantile_0.0100               1400\n",
       "quantile_0.0500               3500\n",
       "quantile_0.2500               7500\n",
       "quantile_0.5000              12000\n",
       "quantile_0.7500              20000\n",
       "quantile_0.9500              35000\n",
       "quantile_0.9900              36000\n",
       "quantile_1.0000              40000"
      ]
     },
     "execution_count": 15,
     "metadata": {},
     "output_type": "execute_result"
    }
   ],
   "source": [
    "summary[summary['column']=='funded_amnt'].T"
   ]
  },
  {
   "cell_type": "markdown",
   "metadata": {},
   "source": [
    "You may notice that the count for this variable was recorded at **309** counted with a minimum loan amount of **\\$1,000.00 USD** and a maximum loan amount of **\\$40,000.00 USD**.\n",
    "\n",
    "For numerical variables like `funded_amnt`, we can view further information in the histograms dictionary from the profile summaries object. The variable's histogram object contains bin edges along with counts."
   ]
  },
  {
   "cell_type": "code",
   "execution_count": 16,
   "metadata": {},
   "outputs": [
    {
     "name": "stdout",
     "output_type": "stream",
     "text": [
      "{'bin_edges': [1000.0, 2300.0001333333335, 3600.000266666667, 4900.000400000001, 6200.000533333334, 7500.000666666667, 8800.000800000002, 10100.000933333335, 11400.001066666668, 12700.0012, 14000.001333333334, 15300.001466666668, 16600.001600000003, 17900.001733333334, 19200.00186666667, 20500.002, 21800.002133333335, 23100.00226666667, 24400.0024, 25700.002533333336, 27000.002666666667, 28300.002800000002, 29600.002933333337, 30900.003066666668, 32200.003200000003, 33500.00333333334, 34800.00346666667, 36100.003600000004, 37400.00373333334, 38700.00386666667, 40000.004], 'counts': [7, 10, 13, 34, 14, 17, 32, 8, 24, 11, 22, 12, 9, 11, 22, 7, 5, 3, 10, 2, 5, 1, 5, 5, 0, 2, 15, 0, 0, 3]}\n"
     ]
    }
   ],
   "source": [
    "histograms = summaries['hist']\n",
    "print(histograms['funded_amnt'])"
   ]
  },
  {
   "cell_type": "markdown",
   "metadata": {},
   "source": [
    "For another variable, `loan_status` we will see interesting information in different metrics. This is because loan status is a categorical field that takes strings as inputs.\n",
    "\n",
    "Let's look at a few relevant metrics for this and other string variables."
   ]
  },
  {
   "cell_type": "markdown",
   "metadata": {},
   "source": [
    "Let's look at a few relevant metrics for string variables."
   ]
  },
  {
   "cell_type": "code",
   "execution_count": 17,
   "metadata": {},
   "outputs": [
    {
     "data": {
      "text/html": [
       "<div>\n",
       "<style scoped>\n",
       "    .dataframe tbody tr th:only-of-type {\n",
       "        vertical-align: middle;\n",
       "    }\n",
       "\n",
       "    .dataframe tbody tr th {\n",
       "        vertical-align: top;\n",
       "    }\n",
       "\n",
       "    .dataframe thead th {\n",
       "        text-align: right;\n",
       "    }\n",
       "</style>\n",
       "<table border=\"1\" class=\"dataframe\">\n",
       "  <thead>\n",
       "    <tr style=\"text-align: right;\">\n",
       "      <th></th>\n",
       "      <th>type_string_count</th>\n",
       "      <th>type_null_count</th>\n",
       "      <th>nunique_str</th>\n",
       "      <th>nunique_str_lower</th>\n",
       "      <th>ununique_str_upper</th>\n",
       "    </tr>\n",
       "  </thead>\n",
       "  <tbody>\n",
       "    <tr>\n",
       "      <th>13</th>\n",
       "      <td>309.0</td>\n",
       "      <td>0.0</td>\n",
       "      <td>6.0</td>\n",
       "      <td>6.0</td>\n",
       "      <td>6.0</td>\n",
       "    </tr>\n",
       "  </tbody>\n",
       "</table>\n",
       "</div>"
      ],
      "text/plain": [
       "    type_string_count  type_null_count  nunique_str  nunique_str_lower  \\\n",
       "13              309.0              0.0          6.0                6.0   \n",
       "\n",
       "    ununique_str_upper  \n",
       "13                 6.0  "
      ]
     },
     "execution_count": 17,
     "metadata": {},
     "output_type": "execute_result"
    }
   ],
   "source": [
    "summary[summary['column']=='loan_status'][['type_string_count', \n",
    "                                           'type_null_count', \n",
    "                                           'nunique_str', \n",
    "                                           'nunique_str_lower', \n",
    "                                           'ununique_str_upper']]"
   ]
  },
  {
   "cell_type": "markdown",
   "metadata": {},
   "source": [
    "Notice that there are **309** elements of string type. Also, the unique string fields show **6** unique strings. The lower and upper bounds for the estimate are also **6**, meaning that this is an exact number. You will see many instances of this -- DataSketches in WhyLogs finds exact estimates for numbers as high as 400 unique values.\n",
    "\n",
    "Let's now explore the frequent strings object from our profile summaries."
   ]
  },
  {
   "cell_type": "code",
   "execution_count": 18,
   "metadata": {},
   "outputs": [
    {
     "name": "stdout",
     "output_type": "stream",
     "text": [
      "{'Current': 239, 'Fully Paid': 54, 'Charged Off': 7, 'Late (31-120 days)': 5, 'In Grace Period': 3, 'Late (16-30 days)': 1}\n"
     ]
    }
   ],
   "source": [
    "frequent_strings = summaries['frequent_strings']\n",
    "print(frequent_strings['loan_status'])"
   ]
  },
  {
   "cell_type": "markdown",
   "metadata": {},
   "source": [
    "# Writing data to disk\n",
    "\n",
    "Sometimes you want to write your data out manually rather than relying on the Logger framework (it's more opinionated!), you can perform your own serialization and deserialization.\n",
    "\n",
    "WhyLogs uses protobuf for efficient storage. Here's how you do it:"
   ]
  },
  {
   "cell_type": "code",
   "execution_count": 19,
   "metadata": {},
   "outputs": [],
   "source": [
    "profile.write_protobuf(\"profile.bin\")\n",
    "roundtrip = profile.read_protobuf(\"profile.bin\")"
   ]
  },
  {
   "cell_type": "code",
   "execution_count": 20,
   "metadata": {},
   "outputs": [
    {
     "data": {
      "text/plain": [
       "150"
      ]
     },
     "execution_count": 20,
     "metadata": {},
     "output_type": "execute_result"
    }
   ],
   "source": [
    "len(roundtrip.columns)"
   ]
  },
  {
   "cell_type": "markdown",
   "metadata": {},
   "source": [
    "## Visualizing multiple datasets across time with WhyLogs"
   ]
  },
  {
   "cell_type": "markdown",
   "metadata": {},
   "source": [
    "To use the WhyLogs visualization tools, let us import the `ProfileVisualizer` object and use the Altair visualization framework for now."
   ]
  },
  {
   "cell_type": "code",
   "execution_count": 21,
   "metadata": {},
   "outputs": [],
   "source": [
    "from whylogs.viz import ProfileVisualizer\n",
    "\n",
    "viz = ProfileVisualizer()"
   ]
  },
  {
   "cell_type": "markdown",
   "metadata": {},
   "source": [
    "Now that we've explored data for a single month, let's calculate profile summaries for a series of months. Normally, we'd expect WhyLogs to be operating on future data, so these new datasets originate from data seen at inference time.\n",
    "\n",
    "But in special cases like this demo or diagnosing data collected prior to WhyLogs integration, it may be helpful to backfill with past data. Here we'll loop through subsets of data to create a list of profile summaries."
   ]
  },
  {
   "cell_type": "code",
   "execution_count": 22,
   "metadata": {},
   "outputs": [
    {
     "data": {
      "text/plain": [
       "[<whylogs.core.datasetprofile.DatasetProfile at 0x7f7f93e39bb0>,\n",
       " <whylogs.core.datasetprofile.DatasetProfile at 0x7f7f93e3dd60>,\n",
       " <whylogs.core.datasetprofile.DatasetProfile at 0x7f7f93dcb1f0>,\n",
       " <whylogs.core.datasetprofile.DatasetProfile at 0x7f7f93fb3bb0>,\n",
       " <whylogs.core.datasetprofile.DatasetProfile at 0x7f7f9406aa60>,\n",
       " <whylogs.core.datasetprofile.DatasetProfile at 0x7f7f941e1910>]"
      ]
     },
     "execution_count": 22,
     "metadata": {},
     "output_type": "execute_result"
    }
   ],
   "source": [
    "# Create a list of data profiles\n",
    "remaining_dates = ['Feb-2017', 'Mar-2017', 'Apr-2017', 'May-2017', 'Jun-2017']\n",
    "\n",
    "profiles = [profile]  # list with original profile\n",
    "for date in remaining_dates:\n",
    "    timestamp = datetime.datetime.strptime(date, '%b-%Y')\n",
    "    subset_data = full_data[full_data['issue_d']==date]\n",
    "    subset_prof = session.profile_dataframe(subset_data, \"demo\", dataset_timestamp=timestamp)\n",
    "    profiles.append(subset_prof)\n",
    "\n",
    "profiles"
   ]
  },
  {
   "cell_type": "markdown",
   "metadata": {},
   "source": [
    "Let's pass this list of profiles into the visualizer."
   ]
  },
  {
   "cell_type": "code",
   "execution_count": 23,
   "metadata": {},
   "outputs": [],
   "source": [
    "viz.set_profiles(profiles)"
   ]
  },
  {
   "cell_type": "markdown",
   "metadata": {},
   "source": [
    "We can now quickly look at temporal series visualizations for our profiles."
   ]
  },
  {
   "cell_type": "code",
   "execution_count": 24,
   "metadata": {},
   "outputs": [
    {
     "data": {
      "image/png": "[encoded data removed]",
      "text/plain": [
       "<Figure size 2000x400 with 1 Axes>"
      ]
     },
     "execution_count": 24,
     "metadata": {},
     "output_type": "execute_result"
    }
   ],
   "source": [
    "viz.plot_distribution(\"loan_amnt\")"
   ]
  },
  {
   "cell_type": "code",
   "execution_count": 25,
   "metadata": {},
   "outputs": [
    {
     "data": {
      "image/png": "[encoded data removed]",
      "text/plain": [
       "<Figure size 2000x400 with 1 Axes>"
      ]
     },
     "execution_count": 25,
     "metadata": {},
     "output_type": "execute_result"
    }
   ],
   "source": [
    "viz.plot_data_types(\"emp_length\")"
   ]
  },
  {
   "cell_type": "markdown",
   "metadata": {},
   "source": [
    "# Wrapping up\n",
    "\n",
    "Once you're done with your session, you can close it. Closing a session will close all downstream loggers and force them to write to disk.\n",
    "\n",
    "Note that for dataset profiles, they are in-memory so they won't be discarded with the session. You can use them as long as you'd like!"
   ]
  },
  {
   "cell_type": "code",
   "execution_count": 26,
   "metadata": {},
   "outputs": [],
   "source": [
    "session.close()"
   ]
  },
  {
   "cell_type": "code",
   "execution_count": 27,
   "metadata": {},
   "outputs": [
    {
     "data": {
      "text/plain": [
       "False"
      ]
     },
     "execution_count": 27,
     "metadata": {},
     "output_type": "execute_result"
    }
   ],
   "source": [
    "session.is_active()"
   ]
  },
  {
   "cell_type": "code",
   "execution_count": null,
   "metadata": {},
   "outputs": [],
   "source": []
  }
 ],
 "metadata": {
  "kernelspec": {
   "display_name": "Python 3",
   "language": "python",
   "name": "python3"
  },
  "language_info": {
   "codemirror_mode": {
    "name": "ipython",
    "version": 3
   },
   "file_extension": ".py",
   "mimetype": "text/x-python",
   "name": "python",
   "nbconvert_exporter": "python",
   "pygments_lexer": "ipython3",
   "version": "3.8.3"
  },
  "pycharm": {
   "stem_cell": {
    "cell_type": "raw",
    "metadata": {
     "collapsed": false
    },
    "source": []
   }
  }
 },
 "nbformat": 4,
 "nbformat_minor": 4
}

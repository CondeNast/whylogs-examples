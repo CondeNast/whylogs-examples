{
 "cells": [
  {
   "cell_type": "markdown",
   "metadata": {},
   "source": [
    "# whylogs + pySpark\n",
    "\n",
    "First, you'll need to point to an existing Spark installation. Make sure that the Spark version matches the pyspark version in the environment."
   ]
  },
  {
   "cell_type": "markdown",
   "metadata": {},
   "source": [
    "You can download a Spark distribution and extract it to a local path: https://www.apache.org/dyn/closer.lua/spark/spark-3.1.1/spark-3.1.1-bin-hadoop2.7.tgz"
   ]
  },
  {
   "cell_type": "code",
   "execution_count": 1,
   "metadata": {},
   "outputs": [
    {
     "name": "stdout",
     "output_type": "stream",
     "text": [
      "env: SPARK_HOME=/Volumes/Workspace/spark/spark-3.1.1-bin-hadoop3.2\n"
     ]
    }
   ],
   "source": [
    "env SPARK_HOME=/Volumes/Workspace/spark/spark-3.1.1-bin-hadoop3.2"
   ]
  },
  {
   "cell_type": "markdown",
   "metadata": {},
   "source": [
    "## whylogs Spark jar\n",
    "\n",
    "You'll need to load a fat jar for whylogs. This jar contains all the required dependencies (some are shaded) for running whylogs in Spark.\n",
    "\n",
    "Spark will then inject the `whyspark` module into the path.\n",
    "\n",
    "You can download the jar bundle here: https://drive.google.com/file/d/1IHlXJZU6HxTeIuWlMCKh3v7N6H9EeJxI/view?usp=sharing"
   ]
  },
  {
   "cell_type": "code",
   "execution_count": 2,
   "metadata": {},
   "outputs": [],
   "source": [
    "whylogs_jar = \"/Users/andy/Workspace/tmp/pyspark/whylogs-spark_3.1.1.jar\""
   ]
  },
  {
   "cell_type": "markdown",
   "metadata": {},
   "source": [
    "You'll need pyspark in your Jupyter kernel"
   ]
  },
  {
   "cell_type": "code",
   "execution_count": 3,
   "metadata": {},
   "outputs": [
    {
     "name": "stdout",
     "output_type": "stream",
     "text": [
      "Requirement already satisfied: pyspark==3.1.1 in /Users/andy/miniconda3/envs/whylogs-spark/lib/python3.8/site-packages (3.1.1)\n",
      "Requirement already satisfied: py4j==0.10.9 in /Users/andy/miniconda3/envs/whylogs-spark/lib/python3.8/site-packages (from pyspark==3.1.1) (0.10.9)\n",
      "Note: you may need to restart the kernel to use updated packages.\n"
     ]
    }
   ],
   "source": [
    "pip install pyspark==3.1.1"
   ]
  },
  {
   "cell_type": "code",
   "execution_count": 4,
   "metadata": {},
   "outputs": [
    {
     "data": {
      "text/plain": [
       "'3.1.1'"
      ]
     },
     "execution_count": 4,
     "metadata": {},
     "output_type": "execute_result"
    }
   ],
   "source": [
    "import pyspark\n",
    "pyspark.__version__"
   ]
  },
  {
   "cell_type": "code",
   "execution_count": 5,
   "metadata": {},
   "outputs": [],
   "source": [
    "import sys\n",
    "import os"
   ]
  },
  {
   "cell_type": "code",
   "execution_count": 6,
   "metadata": {},
   "outputs": [
    {
     "name": "stdout",
     "output_type": "stream",
     "text": [
      "env: PYSPARK_PYTHON=/Users/andy/miniconda3/envs/whylogs-spark/bin/python\n",
      "env: PYSPARK_DRIVER_PYTHON=/Users/andy/miniconda3/envs/whylogs-spark/bin/python\n"
     ]
    }
   ],
   "source": [
    "%env PYSPARK_PYTHON={sys.executable}\n",
    "%env PYSPARK_DRIVER_PYTHON={sys.executable}"
   ]
  },
  {
   "cell_type": "code",
   "execution_count": 7,
   "metadata": {},
   "outputs": [],
   "source": [
    "spark = pyspark.sql.SparkSession.builder \\\n",
    "                .appName(\"whylogs\") \\\n",
    "                .config(\"spark.pyspark.driver.python\", sys.executable) \\\n",
    "                .config(\"spark.pyspark.python\", sys.executable) \\\n",
    "                .config(\"spark.executor.userClassPathFirst\", \"true\") \\\n",
    "                .config(\"spark.submit.pyFiles\", whylogs_jar) \\\n",
    "                .config(\"spark.sql.execution.arrow.pyspark.enabled\", \"true\") \\\n",
    "                .config(\"spark.jars\", whylogs_jar) \\\n",
    "                .getOrCreate() "
   ]
  },
  {
   "cell_type": "markdown",
   "metadata": {},
   "source": [
    "## Using Spark bridge\n",
    "\n",
    "`whyspark` is the module that is bundled in the above jar. It's a thin bridge into whylogs Spark."
   ]
  },
  {
   "cell_type": "code",
   "execution_count": 8,
   "metadata": {},
   "outputs": [
    {
     "data": {
      "text/plain": [
       "<module 'whyspark' from '/private/var/folders/58/g0k4klhn3915_fs0s1gc7h7r0000gn/T/spark-396a5059-b82e-42eb-8884-5d6a779ef0ac/userFiles-dcf9d009-749c-4b64-a61c-7f43efc61932/whylogs-spark_3.1.1.jar/whyspark/__init__.py'>"
      ]
     },
     "execution_count": 8,
     "metadata": {},
     "output_type": "execute_result"
    }
   ],
   "source": [
    "import whyspark\n",
    "whyspark"
   ]
  },
  {
   "cell_type": "markdown",
   "metadata": {},
   "source": [
    "# Read a parquet data\n",
    "The example dataset can be downloaded from here: https://drive.google.com/file/d/11kNZ-rxoIZL6dyLOOYjFUWiMUOc0hzhA/view?usp=sharing"
   ]
  },
  {
   "cell_type": "code",
   "execution_count": 12,
   "metadata": {},
   "outputs": [],
   "source": [
    "df = spark.read.parquet(\"demo.parquet\")"
   ]
  },
  {
   "cell_type": "code",
   "execution_count": 13,
   "metadata": {},
   "outputs": [
    {
     "name": "stdout",
     "output_type": "stream",
     "text": [
      "root\n",
      " |-- feature0: double (nullable = true)\n",
      " |-- feature1: double (nullable = true)\n",
      " |-- feature2: double (nullable = true)\n",
      " |-- feature3: double (nullable = true)\n",
      " |-- feature4: double (nullable = true)\n",
      " |-- feature5: double (nullable = true)\n",
      " |-- feature6: double (nullable = true)\n",
      " |-- feature7: double (nullable = true)\n",
      " |-- feature8: double (nullable = true)\n",
      " |-- feature9: double (nullable = true)\n",
      " |-- feature10: double (nullable = true)\n",
      " |-- feature11: double (nullable = true)\n",
      " |-- feature12: double (nullable = true)\n",
      " |-- feature13: double (nullable = true)\n",
      " |-- feature15: double (nullable = true)\n",
      " |-- feature16: double (nullable = true)\n",
      " |-- feature17: double (nullable = true)\n",
      " |-- feature18: double (nullable = true)\n",
      " |-- feature19: double (nullable = true)\n",
      " |-- targets: double (nullable = true)\n",
      " |-- predictions: double (nullable = true)\n",
      "\n"
     ]
    }
   ],
   "source": [
    "df.printSchema()"
   ]
  },
  {
   "cell_type": "code",
   "execution_count": 15,
   "metadata": {},
   "outputs": [
    {
     "data": {
      "text/html": [
       "<div>\n",
       "<style scoped>\n",
       "    .dataframe tbody tr th:only-of-type {\n",
       "        vertical-align: middle;\n",
       "    }\n",
       "\n",
       "    .dataframe tbody tr th {\n",
       "        vertical-align: top;\n",
       "    }\n",
       "\n",
       "    .dataframe thead th {\n",
       "        text-align: right;\n",
       "    }\n",
       "</style>\n",
       "<table border=\"1\" class=\"dataframe\">\n",
       "  <thead>\n",
       "    <tr style=\"text-align: right;\">\n",
       "      <th></th>\n",
       "      <th>feature0</th>\n",
       "      <th>feature1</th>\n",
       "      <th>feature2</th>\n",
       "      <th>feature3</th>\n",
       "      <th>feature4</th>\n",
       "      <th>feature5</th>\n",
       "      <th>feature6</th>\n",
       "      <th>feature7</th>\n",
       "      <th>feature8</th>\n",
       "      <th>feature9</th>\n",
       "      <th>...</th>\n",
       "      <th>feature11</th>\n",
       "      <th>feature12</th>\n",
       "      <th>feature13</th>\n",
       "      <th>feature15</th>\n",
       "      <th>feature16</th>\n",
       "      <th>feature17</th>\n",
       "      <th>feature18</th>\n",
       "      <th>feature19</th>\n",
       "      <th>targets</th>\n",
       "      <th>predictions</th>\n",
       "    </tr>\n",
       "  </thead>\n",
       "  <tbody>\n",
       "    <tr>\n",
       "      <th>0</th>\n",
       "      <td>-0.770211</td>\n",
       "      <td>-1.150007</td>\n",
       "      <td>1.267444</td>\n",
       "      <td>1.543401</td>\n",
       "      <td>6.845826</td>\n",
       "      <td>-0.809080</td>\n",
       "      <td>0.516353</td>\n",
       "      <td>-1.013320</td>\n",
       "      <td>0.0</td>\n",
       "      <td>0.0</td>\n",
       "      <td>...</td>\n",
       "      <td>1.189272</td>\n",
       "      <td>1.357314</td>\n",
       "      <td>1.097288</td>\n",
       "      <td>0.895369</td>\n",
       "      <td>2.022678</td>\n",
       "      <td>0.836942</td>\n",
       "      <td>-0.364999</td>\n",
       "      <td>-0.448945</td>\n",
       "      <td>249.869482</td>\n",
       "      <td>475.699682</td>\n",
       "    </tr>\n",
       "    <tr>\n",
       "      <th>1</th>\n",
       "      <td>-0.209804</td>\n",
       "      <td>0.420597</td>\n",
       "      <td>-0.611037</td>\n",
       "      <td>-1.239387</td>\n",
       "      <td>-3.405289</td>\n",
       "      <td>1.959404</td>\n",
       "      <td>0.282430</td>\n",
       "      <td>-1.115981</td>\n",
       "      <td>0.0</td>\n",
       "      <td>0.0</td>\n",
       "      <td>...</td>\n",
       "      <td>0.612708</td>\n",
       "      <td>-2.584602</td>\n",
       "      <td>-1.500597</td>\n",
       "      <td>0.537443</td>\n",
       "      <td>-1.538254</td>\n",
       "      <td>0.183368</td>\n",
       "      <td>-0.961058</td>\n",
       "      <td>-1.037713</td>\n",
       "      <td>-390.560276</td>\n",
       "      <td>-518.176652</td>\n",
       "    </tr>\n",
       "    <tr>\n",
       "      <th>2</th>\n",
       "      <td>2.668646</td>\n",
       "      <td>2.169074</td>\n",
       "      <td>0.744704</td>\n",
       "      <td>0.873234</td>\n",
       "      <td>-1.525391</td>\n",
       "      <td>1.180888</td>\n",
       "      <td>-0.366199</td>\n",
       "      <td>1.173369</td>\n",
       "      <td>0.0</td>\n",
       "      <td>0.0</td>\n",
       "      <td>...</td>\n",
       "      <td>1.701718</td>\n",
       "      <td>0.398231</td>\n",
       "      <td>1.450776</td>\n",
       "      <td>0.162088</td>\n",
       "      <td>-1.856014</td>\n",
       "      <td>-1.007003</td>\n",
       "      <td>-0.301078</td>\n",
       "      <td>-0.122349</td>\n",
       "      <td>220.721564</td>\n",
       "      <td>144.361448</td>\n",
       "    </tr>\n",
       "    <tr>\n",
       "      <th>3</th>\n",
       "      <td>-0.299021</td>\n",
       "      <td>1.528501</td>\n",
       "      <td>0.762890</td>\n",
       "      <td>0.080424</td>\n",
       "      <td>0.950978</td>\n",
       "      <td>-0.630125</td>\n",
       "      <td>-0.134700</td>\n",
       "      <td>-0.633652</td>\n",
       "      <td>0.0</td>\n",
       "      <td>0.0</td>\n",
       "      <td>...</td>\n",
       "      <td>-0.630305</td>\n",
       "      <td>-1.872968</td>\n",
       "      <td>0.616833</td>\n",
       "      <td>0.073704</td>\n",
       "      <td>-1.081827</td>\n",
       "      <td>0.103161</td>\n",
       "      <td>-0.180834</td>\n",
       "      <td>0.862916</td>\n",
       "      <td>65.126969</td>\n",
       "      <td>68.374668</td>\n",
       "    </tr>\n",
       "    <tr>\n",
       "      <th>4</th>\n",
       "      <td>0.834264</td>\n",
       "      <td>0.315182</td>\n",
       "      <td>-0.158830</td>\n",
       "      <td>-0.570665</td>\n",
       "      <td>-2.190307</td>\n",
       "      <td>0.478157</td>\n",
       "      <td>-1.323692</td>\n",
       "      <td>-0.831484</td>\n",
       "      <td>0.0</td>\n",
       "      <td>0.0</td>\n",
       "      <td>...</td>\n",
       "      <td>2.509004</td>\n",
       "      <td>-0.203884</td>\n",
       "      <td>-1.197428</td>\n",
       "      <td>-0.464271</td>\n",
       "      <td>-1.940522</td>\n",
       "      <td>0.322344</td>\n",
       "      <td>0.720388</td>\n",
       "      <td>-0.299949</td>\n",
       "      <td>-180.414795</td>\n",
       "      <td>-291.098377</td>\n",
       "    </tr>\n",
       "    <tr>\n",
       "      <th>5</th>\n",
       "      <td>-0.410635</td>\n",
       "      <td>-0.729970</td>\n",
       "      <td>-0.379872</td>\n",
       "      <td>0.335286</td>\n",
       "      <td>0.076386</td>\n",
       "      <td>0.257638</td>\n",
       "      <td>-0.418550</td>\n",
       "      <td>1.146481</td>\n",
       "      <td>0.0</td>\n",
       "      <td>0.0</td>\n",
       "      <td>...</td>\n",
       "      <td>1.663541</td>\n",
       "      <td>-1.028033</td>\n",
       "      <td>-1.354744</td>\n",
       "      <td>-0.243626</td>\n",
       "      <td>-0.428517</td>\n",
       "      <td>-1.519307</td>\n",
       "      <td>0.419440</td>\n",
       "      <td>0.408956</td>\n",
       "      <td>128.801929</td>\n",
       "      <td>117.521255</td>\n",
       "    </tr>\n",
       "    <tr>\n",
       "      <th>6</th>\n",
       "      <td>-0.408978</td>\n",
       "      <td>0.463264</td>\n",
       "      <td>0.328730</td>\n",
       "      <td>0.735546</td>\n",
       "      <td>-0.545499</td>\n",
       "      <td>-0.972379</td>\n",
       "      <td>0.018453</td>\n",
       "      <td>0.440376</td>\n",
       "      <td>0.0</td>\n",
       "      <td>0.0</td>\n",
       "      <td>...</td>\n",
       "      <td>1.109912</td>\n",
       "      <td>0.182653</td>\n",
       "      <td>0.125567</td>\n",
       "      <td>2.101821</td>\n",
       "      <td>-0.648903</td>\n",
       "      <td>1.223861</td>\n",
       "      <td>-0.390747</td>\n",
       "      <td>-0.441613</td>\n",
       "      <td>-169.732409</td>\n",
       "      <td>-111.987417</td>\n",
       "    </tr>\n",
       "    <tr>\n",
       "      <th>7</th>\n",
       "      <td>-0.989288</td>\n",
       "      <td>0.458408</td>\n",
       "      <td>1.392145</td>\n",
       "      <td>-0.792931</td>\n",
       "      <td>-0.148603</td>\n",
       "      <td>0.606489</td>\n",
       "      <td>-0.071866</td>\n",
       "      <td>-1.048558</td>\n",
       "      <td>0.0</td>\n",
       "      <td>0.0</td>\n",
       "      <td>...</td>\n",
       "      <td>-0.094266</td>\n",
       "      <td>0.377068</td>\n",
       "      <td>-0.634952</td>\n",
       "      <td>1.704654</td>\n",
       "      <td>0.506391</td>\n",
       "      <td>0.862971</td>\n",
       "      <td>1.756921</td>\n",
       "      <td>0.674557</td>\n",
       "      <td>-76.037622</td>\n",
       "      <td>-139.440168</td>\n",
       "    </tr>\n",
       "    <tr>\n",
       "      <th>8</th>\n",
       "      <td>0.563311</td>\n",
       "      <td>1.521921</td>\n",
       "      <td>-0.155797</td>\n",
       "      <td>1.194707</td>\n",
       "      <td>-1.831027</td>\n",
       "      <td>-2.199984</td>\n",
       "      <td>0.504092</td>\n",
       "      <td>-0.158731</td>\n",
       "      <td>0.0</td>\n",
       "      <td>0.0</td>\n",
       "      <td>...</td>\n",
       "      <td>0.893653</td>\n",
       "      <td>0.599627</td>\n",
       "      <td>1.403464</td>\n",
       "      <td>0.105020</td>\n",
       "      <td>1.777538</td>\n",
       "      <td>-0.814220</td>\n",
       "      <td>0.119774</td>\n",
       "      <td>0.106125</td>\n",
       "      <td>63.950866</td>\n",
       "      <td>-78.570837</td>\n",
       "    </tr>\n",
       "    <tr>\n",
       "      <th>9</th>\n",
       "      <td>0.329955</td>\n",
       "      <td>-1.749117</td>\n",
       "      <td>1.332187</td>\n",
       "      <td>-0.242201</td>\n",
       "      <td>-0.164931</td>\n",
       "      <td>-1.836846</td>\n",
       "      <td>-0.008868</td>\n",
       "      <td>1.469891</td>\n",
       "      <td>0.0</td>\n",
       "      <td>0.0</td>\n",
       "      <td>...</td>\n",
       "      <td>-0.462468</td>\n",
       "      <td>0.945933</td>\n",
       "      <td>0.043585</td>\n",
       "      <td>-1.331824</td>\n",
       "      <td>-0.832666</td>\n",
       "      <td>-1.056759</td>\n",
       "      <td>0.470669</td>\n",
       "      <td>-1.614790</td>\n",
       "      <td>175.050885</td>\n",
       "      <td>142.696762</td>\n",
       "    </tr>\n",
       "  </tbody>\n",
       "</table>\n",
       "<p>10 rows × 21 columns</p>\n",
       "</div>"
      ],
      "text/plain": [
       "   feature0  feature1  feature2  feature3  feature4  feature5  feature6  \\\n",
       "0 -0.770211 -1.150007  1.267444  1.543401  6.845826 -0.809080  0.516353   \n",
       "1 -0.209804  0.420597 -0.611037 -1.239387 -3.405289  1.959404  0.282430   \n",
       "2  2.668646  2.169074  0.744704  0.873234 -1.525391  1.180888 -0.366199   \n",
       "3 -0.299021  1.528501  0.762890  0.080424  0.950978 -0.630125 -0.134700   \n",
       "4  0.834264  0.315182 -0.158830 -0.570665 -2.190307  0.478157 -1.323692   \n",
       "5 -0.410635 -0.729970 -0.379872  0.335286  0.076386  0.257638 -0.418550   \n",
       "6 -0.408978  0.463264  0.328730  0.735546 -0.545499 -0.972379  0.018453   \n",
       "7 -0.989288  0.458408  1.392145 -0.792931 -0.148603  0.606489 -0.071866   \n",
       "8  0.563311  1.521921 -0.155797  1.194707 -1.831027 -2.199984  0.504092   \n",
       "9  0.329955 -1.749117  1.332187 -0.242201 -0.164931 -1.836846 -0.008868   \n",
       "\n",
       "   feature7  feature8  feature9  ...  feature11  feature12  feature13  \\\n",
       "0 -1.013320       0.0       0.0  ...   1.189272   1.357314   1.097288   \n",
       "1 -1.115981       0.0       0.0  ...   0.612708  -2.584602  -1.500597   \n",
       "2  1.173369       0.0       0.0  ...   1.701718   0.398231   1.450776   \n",
       "3 -0.633652       0.0       0.0  ...  -0.630305  -1.872968   0.616833   \n",
       "4 -0.831484       0.0       0.0  ...   2.509004  -0.203884  -1.197428   \n",
       "5  1.146481       0.0       0.0  ...   1.663541  -1.028033  -1.354744   \n",
       "6  0.440376       0.0       0.0  ...   1.109912   0.182653   0.125567   \n",
       "7 -1.048558       0.0       0.0  ...  -0.094266   0.377068  -0.634952   \n",
       "8 -0.158731       0.0       0.0  ...   0.893653   0.599627   1.403464   \n",
       "9  1.469891       0.0       0.0  ...  -0.462468   0.945933   0.043585   \n",
       "\n",
       "   feature15  feature16  feature17  feature18  feature19     targets  \\\n",
       "0   0.895369   2.022678   0.836942  -0.364999  -0.448945  249.869482   \n",
       "1   0.537443  -1.538254   0.183368  -0.961058  -1.037713 -390.560276   \n",
       "2   0.162088  -1.856014  -1.007003  -0.301078  -0.122349  220.721564   \n",
       "3   0.073704  -1.081827   0.103161  -0.180834   0.862916   65.126969   \n",
       "4  -0.464271  -1.940522   0.322344   0.720388  -0.299949 -180.414795   \n",
       "5  -0.243626  -0.428517  -1.519307   0.419440   0.408956  128.801929   \n",
       "6   2.101821  -0.648903   1.223861  -0.390747  -0.441613 -169.732409   \n",
       "7   1.704654   0.506391   0.862971   1.756921   0.674557  -76.037622   \n",
       "8   0.105020   1.777538  -0.814220   0.119774   0.106125   63.950866   \n",
       "9  -1.331824  -0.832666  -1.056759   0.470669  -1.614790  175.050885   \n",
       "\n",
       "   predictions  \n",
       "0   475.699682  \n",
       "1  -518.176652  \n",
       "2   144.361448  \n",
       "3    68.374668  \n",
       "4  -291.098377  \n",
       "5   117.521255  \n",
       "6  -111.987417  \n",
       "7  -139.440168  \n",
       "8   -78.570837  \n",
       "9   142.696762  \n",
       "\n",
       "[10 rows x 21 columns]"
      ]
     },
     "execution_count": 15,
     "metadata": {},
     "output_type": "execute_result"
    }
   ],
   "source": [
    "df.limit(10).toPandas()"
   ]
  },
  {
   "cell_type": "markdown",
   "metadata": {},
   "source": [
    "## Tracking the datasets\n",
    "\n",
    "To track a new dataset, you have to create a whylog session."
   ]
  },
  {
   "cell_type": "code",
   "execution_count": 17,
   "metadata": {},
   "outputs": [],
   "source": [
    "import whyspark"
   ]
  },
  {
   "cell_type": "code",
   "execution_count": 18,
   "metadata": {},
   "outputs": [
    {
     "data": {
      "text/plain": [
       "\u001b[0;31mSignature:\u001b[0m\n",
       "\u001b[0mwhyspark\u001b[0m\u001b[0;34m.\u001b[0m\u001b[0mnew_profiling_session\u001b[0m\u001b[0;34m(\u001b[0m\u001b[0;34m\u001b[0m\n",
       "\u001b[0;34m\u001b[0m    \u001b[0mdf\u001b[0m\u001b[0;34m:\u001b[0m \u001b[0mpyspark\u001b[0m\u001b[0;34m.\u001b[0m\u001b[0msql\u001b[0m\u001b[0;34m.\u001b[0m\u001b[0mdataframe\u001b[0m\u001b[0;34m.\u001b[0m\u001b[0mDataFrame\u001b[0m\u001b[0;34m,\u001b[0m\u001b[0;34m\u001b[0m\n",
       "\u001b[0;34m\u001b[0m    \u001b[0mname\u001b[0m\u001b[0;34m:\u001b[0m \u001b[0mstr\u001b[0m\u001b[0;34m,\u001b[0m\u001b[0;34m\u001b[0m\n",
       "\u001b[0;34m\u001b[0m    \u001b[0mtime_column\u001b[0m\u001b[0;34m:\u001b[0m \u001b[0mUnion\u001b[0m\u001b[0;34m[\u001b[0m\u001b[0mstr\u001b[0m\u001b[0;34m,\u001b[0m \u001b[0mNoneType\u001b[0m\u001b[0;34m]\u001b[0m \u001b[0;34m=\u001b[0m \u001b[0;32mNone\u001b[0m\u001b[0;34m,\u001b[0m\u001b[0;34m\u001b[0m\n",
       "\u001b[0;34m\u001b[0m\u001b[0;34m)\u001b[0m\u001b[0;34m\u001b[0m\u001b[0;34m\u001b[0m\u001b[0m\n",
       "\u001b[0;31mDocstring:\u001b[0m <no docstring>\n",
       "\u001b[0;31mFile:\u001b[0m      /private/var/folders/58/g0k4klhn3915_fs0s1gc7h7r0000gn/T/spark-396a5059-b82e-42eb-8884-5d6a779ef0ac/userFiles-dcf9d009-749c-4b64-a61c-7f43efc61932/whylogs-spark_3.1.1.jar/whyspark/udt/profile.py\n",
       "\u001b[0;31mType:\u001b[0m      function\n"
      ]
     },
     "metadata": {},
     "output_type": "display_data"
    }
   ],
   "source": [
    "whyspark.new_profiling_session?"
   ]
  },
  {
   "cell_type": "code",
   "execution_count": 19,
   "metadata": {},
   "outputs": [],
   "source": [
    "session = whyspark.new_profiling_session(df, \"my-model-name\")"
   ]
  },
  {
   "cell_type": "code",
   "execution_count": 20,
   "metadata": {},
   "outputs": [
    {
     "data": {
      "text/plain": [
       "\u001b[0;31mSignature:\u001b[0m\n",
       "\u001b[0msession\u001b[0m\u001b[0;34m.\u001b[0m\u001b[0mlog\u001b[0m\u001b[0;34m(\u001b[0m\u001b[0;34m\u001b[0m\n",
       "\u001b[0;34m\u001b[0m    \u001b[0mdt\u001b[0m\u001b[0;34m:\u001b[0m \u001b[0mUnion\u001b[0m\u001b[0;34m[\u001b[0m\u001b[0mdatetime\u001b[0m\u001b[0;34m.\u001b[0m\u001b[0mdatetime\u001b[0m\u001b[0;34m,\u001b[0m \u001b[0mNoneType\u001b[0m\u001b[0;34m]\u001b[0m \u001b[0;34m=\u001b[0m \u001b[0;32mNone\u001b[0m\u001b[0;34m,\u001b[0m\u001b[0;34m\u001b[0m\n",
       "\u001b[0;34m\u001b[0m    \u001b[0morg_id\u001b[0m\u001b[0;34m:\u001b[0m \u001b[0mstr\u001b[0m \u001b[0;34m=\u001b[0m \u001b[0;32mNone\u001b[0m\u001b[0;34m,\u001b[0m\u001b[0;34m\u001b[0m\n",
       "\u001b[0;34m\u001b[0m    \u001b[0mmodel_id\u001b[0m\u001b[0;34m:\u001b[0m \u001b[0mstr\u001b[0m \u001b[0;34m=\u001b[0m \u001b[0;32mNone\u001b[0m\u001b[0;34m,\u001b[0m\u001b[0;34m\u001b[0m\n",
       "\u001b[0;34m\u001b[0m    \u001b[0mapi_key\u001b[0m\u001b[0;34m:\u001b[0m \u001b[0mstr\u001b[0m \u001b[0;34m=\u001b[0m \u001b[0;32mNone\u001b[0m\u001b[0;34m,\u001b[0m\u001b[0;34m\u001b[0m\n",
       "\u001b[0;34m\u001b[0m\u001b[0;34m)\u001b[0m\u001b[0;34m\u001b[0m\u001b[0;34m\u001b[0m\u001b[0m\n",
       "\u001b[0;31mDocstring:\u001b[0m\n",
       "Run profiling and send results to WhyLabs using the WhyProfileSession's configurations.\n",
       "\n",
       "Users must specify the organization ID, the model ID and the API key.\n",
       "\n",
       "You can specify via WHYLABS_ORG_ID, WHYLABS_MODEL_ID and WHYLABS_API_KEY environment variables as well.\n",
       ":param dt: the datetime of the dataset. Default to the current time\n",
       ":param org_id: the WhyLabs organization ID. Defaults to WHYLABS_ORG_ID environment variable\n",
       ":param model_id: the model or dataset ID. Defaults to WHYLABS_MODEL_ID environment variable\n",
       ":param api_key: the whylabs API key. Defaults to WHYLABS_API_KEY environment variable\n",
       "\u001b[0;31mFile:\u001b[0m      /private/var/folders/58/g0k4klhn3915_fs0s1gc7h7r0000gn/T/spark-396a5059-b82e-42eb-8884-5d6a779ef0ac/userFiles-dcf9d009-749c-4b64-a61c-7f43efc61932/whylogs-spark_3.1.1.jar/whyspark/udt/profile.py\n",
       "\u001b[0;31mType:\u001b[0m      method\n"
      ]
     },
     "metadata": {},
     "output_type": "display_data"
    }
   ],
   "source": [
    "session.log?"
   ]
  },
  {
   "cell_type": "markdown",
   "metadata": {},
   "source": [
    "## Run the profiling\n",
    "\n",
    "Note that the result has three entries for three days"
   ]
  },
  {
   "cell_type": "code",
   "execution_count": 21,
   "metadata": {},
   "outputs": [
    {
     "data": {
      "text/plain": [
       "\u001b[0;31mSignature:\u001b[0m\n",
       "\u001b[0msession\u001b[0m\u001b[0;34m.\u001b[0m\u001b[0maggProfiles\u001b[0m\u001b[0;34m(\u001b[0m\u001b[0;34m\u001b[0m\n",
       "\u001b[0;34m\u001b[0m    \u001b[0mdatetime_ts\u001b[0m\u001b[0;34m:\u001b[0m \u001b[0mUnion\u001b[0m\u001b[0;34m[\u001b[0m\u001b[0mdatetime\u001b[0m\u001b[0;34m.\u001b[0m\u001b[0mdatetime\u001b[0m\u001b[0;34m,\u001b[0m \u001b[0mNoneType\u001b[0m\u001b[0;34m]\u001b[0m \u001b[0;34m=\u001b[0m \u001b[0;32mNone\u001b[0m\u001b[0;34m,\u001b[0m\u001b[0;34m\u001b[0m\n",
       "\u001b[0;34m\u001b[0m    \u001b[0mtimestamp_ms\u001b[0m\u001b[0;34m:\u001b[0m \u001b[0mint\u001b[0m \u001b[0;34m=\u001b[0m \u001b[0;32mNone\u001b[0m\u001b[0;34m,\u001b[0m\u001b[0;34m\u001b[0m\n",
       "\u001b[0;34m\u001b[0m\u001b[0;34m)\u001b[0m \u001b[0;34m->\u001b[0m \u001b[0mpyspark\u001b[0m\u001b[0;34m.\u001b[0m\u001b[0msql\u001b[0m\u001b[0;34m.\u001b[0m\u001b[0mdataframe\u001b[0m\u001b[0;34m.\u001b[0m\u001b[0mDataFrame\u001b[0m\u001b[0;34m\u001b[0m\u001b[0;34m\u001b[0m\u001b[0m\n",
       "\u001b[0;31mDocstring:\u001b[0m <no docstring>\n",
       "\u001b[0;31mFile:\u001b[0m      /private/var/folders/58/g0k4klhn3915_fs0s1gc7h7r0000gn/T/spark-396a5059-b82e-42eb-8884-5d6a779ef0ac/userFiles-dcf9d009-749c-4b64-a61c-7f43efc61932/whylogs-spark_3.1.1.jar/whyspark/udt/profile.py\n",
       "\u001b[0;31mType:\u001b[0m      method\n"
      ]
     },
     "metadata": {},
     "output_type": "display_data"
    }
   ],
   "source": [
    "session.aggProfiles?"
   ]
  },
  {
   "cell_type": "code",
   "execution_count": 22,
   "metadata": {},
   "outputs": [
    {
     "name": "stdout",
     "output_type": "stream",
     "text": [
      "CPU times: user 1.22 ms, sys: 933 µs, total: 2.15 ms\n",
      "Wall time: 709 ms\n"
     ]
    },
    {
     "data": {
      "text/plain": [
       "1"
      ]
     },
     "execution_count": 22,
     "metadata": {},
     "output_type": "execute_result"
    }
   ],
   "source": [
    "%%time\n",
    "profile_df = session.aggProfiles().cache()\n",
    "profile_df.count()"
   ]
  },
  {
   "cell_type": "markdown",
   "metadata": {},
   "source": [
    "\n",
    "## Publish to WhyLabs service\n",
    "\n",
    "You'll need the following information:\n",
    "* Organization ID (`org_id`)\n",
    "* Model ID (`model_id`)\n",
    "* API Key specific to the organization\n",
    "\n",
    "Please reach out to the WhyLabs team if you don't have the information.\n",
    "\n",
    "You can pass these via the method parameters or pass them as environment variables."
   ]
  },
  {
   "cell_type": "code",
   "execution_count": 23,
   "metadata": {},
   "outputs": [
    {
     "data": {
      "text/plain": [
       "\u001b[0;31mSignature:\u001b[0m\n",
       "\u001b[0msession\u001b[0m\u001b[0;34m.\u001b[0m\u001b[0mlog\u001b[0m\u001b[0;34m(\u001b[0m\u001b[0;34m\u001b[0m\n",
       "\u001b[0;34m\u001b[0m    \u001b[0mdt\u001b[0m\u001b[0;34m:\u001b[0m \u001b[0mUnion\u001b[0m\u001b[0;34m[\u001b[0m\u001b[0mdatetime\u001b[0m\u001b[0;34m.\u001b[0m\u001b[0mdatetime\u001b[0m\u001b[0;34m,\u001b[0m \u001b[0mNoneType\u001b[0m\u001b[0;34m]\u001b[0m \u001b[0;34m=\u001b[0m \u001b[0;32mNone\u001b[0m\u001b[0;34m,\u001b[0m\u001b[0;34m\u001b[0m\n",
       "\u001b[0;34m\u001b[0m    \u001b[0morg_id\u001b[0m\u001b[0;34m:\u001b[0m \u001b[0mstr\u001b[0m \u001b[0;34m=\u001b[0m \u001b[0;32mNone\u001b[0m\u001b[0;34m,\u001b[0m\u001b[0;34m\u001b[0m\n",
       "\u001b[0;34m\u001b[0m    \u001b[0mmodel_id\u001b[0m\u001b[0;34m:\u001b[0m \u001b[0mstr\u001b[0m \u001b[0;34m=\u001b[0m \u001b[0;32mNone\u001b[0m\u001b[0;34m,\u001b[0m\u001b[0;34m\u001b[0m\n",
       "\u001b[0;34m\u001b[0m    \u001b[0mapi_key\u001b[0m\u001b[0;34m:\u001b[0m \u001b[0mstr\u001b[0m \u001b[0;34m=\u001b[0m \u001b[0;32mNone\u001b[0m\u001b[0;34m,\u001b[0m\u001b[0;34m\u001b[0m\n",
       "\u001b[0;34m\u001b[0m\u001b[0;34m)\u001b[0m\u001b[0;34m\u001b[0m\u001b[0;34m\u001b[0m\u001b[0m\n",
       "\u001b[0;31mDocstring:\u001b[0m\n",
       "Run profiling and send results to WhyLabs using the WhyProfileSession's configurations.\n",
       "\n",
       "Users must specify the organization ID, the model ID and the API key.\n",
       "\n",
       "You can specify via WHYLABS_ORG_ID, WHYLABS_MODEL_ID and WHYLABS_API_KEY environment variables as well.\n",
       ":param dt: the datetime of the dataset. Default to the current time\n",
       ":param org_id: the WhyLabs organization ID. Defaults to WHYLABS_ORG_ID environment variable\n",
       ":param model_id: the model or dataset ID. Defaults to WHYLABS_MODEL_ID environment variable\n",
       ":param api_key: the whylabs API key. Defaults to WHYLABS_API_KEY environment variable\n",
       "\u001b[0;31mFile:\u001b[0m      /private/var/folders/58/g0k4klhn3915_fs0s1gc7h7r0000gn/T/spark-396a5059-b82e-42eb-8884-5d6a779ef0ac/userFiles-dcf9d009-749c-4b64-a61c-7f43efc61932/whylogs-spark_3.1.1.jar/whyspark/udt/profile.py\n",
       "\u001b[0;31mType:\u001b[0m      method\n"
      ]
     },
     "metadata": {},
     "output_type": "display_data"
    }
   ],
   "source": [
    "session.log?"
   ]
  },
  {
   "cell_type": "code",
   "execution_count": 25,
   "metadata": {},
   "outputs": [
    {
     "name": "stdout",
     "output_type": "stream",
     "text": [
      "env: WHYLABS_API_KEY=<your-api-key>\n",
      "env: WHYLABS_ORG_ID=<your-organization-id>\n",
      "env: WHYLABS_MODEL_ID=<your-model-id>\n"
     ]
    }
   ],
   "source": [
    "# Here we're passing using environment variables\n",
    "\n",
    "%env WHYLABS_API_KEY=<your-api-key>\n",
    "%env WHYLABS_ORG_ID=<your-organization-id>\n",
    "%env WHYLABS_MODEL_ID=<your-model-id>"
   ]
  },
  {
   "cell_type": "code",
   "execution_count": null,
   "metadata": {},
   "outputs": [],
   "source": [
    "%%time\n",
    "from datetime import datetime\n",
    "session.log(datetime(2021, 3, 18, 0, 0))"
   ]
  },
  {
   "cell_type": "code",
   "execution_count": null,
   "metadata": {},
   "outputs": [],
   "source": []
  }
 ],
 "metadata": {
  "kernelspec": {
   "display_name": "spark",
   "language": "python",
   "name": "spark"
  },
  "language_info": {
   "codemirror_mode": {
    "name": "ipython",
    "version": 3
   },
   "file_extension": ".py",
   "mimetype": "text/x-python",
   "name": "python",
   "nbconvert_exporter": "python",
   "pygments_lexer": "ipython3",
   "version": "3.8.5"
  }
 },
 "nbformat": 4,
 "nbformat_minor": 4
}

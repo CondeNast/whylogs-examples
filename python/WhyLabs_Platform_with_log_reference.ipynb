{
 "cells": [
  {
   "cell_type": "markdown",
   "id": "013a0fd4-31f9-4f3f-bf3a-1efc9640422f",
   "metadata": {},
   "source": [
    "# Install basic requirements"
   ]
  },
  {
   "cell_type": "code",
   "execution_count": null,
   "id": "ad907ce3-0c3b-49e4-86f1-eae9de934f7b",
   "metadata": {
    "collapsed": true,
    "jupyter": {
     "outputs_hidden": true
    },
    "tags": []
   },
   "outputs": [],
   "source": [
    "pip install -U whylogs pandas"
   ]
  },
  {
   "cell_type": "code",
   "execution_count": null,
   "id": "8369d3a8-9bf2-4043-a45a-13838498f211",
   "metadata": {},
   "outputs": [],
   "source": [
    "import whylogs\n",
    "import pandas as pd"
   ]
  },
  {
   "cell_type": "markdown",
   "id": "a244145c-ea35-4ab6-b03e-cf5f864ed94c",
   "metadata": {},
   "source": [
    "# Load example data batches\n",
    "\n",
    "The example data is prepared from our public S3 bucket. You can use your own data if you want if you have multiple batches of data."
   ]
  },
  {
   "cell_type": "code",
   "execution_count": null,
   "id": "b78028ea-c7cb-494f-a303-071f1c345dfc",
   "metadata": {},
   "outputs": [],
   "source": [
    "pdfs = []\n",
    "for i in range(1, 8):\n",
    "    path = f\"https://whylabs-public.s3.us-west-2.amazonaws.com/demo_batches/input_batch_{i}.csv\"\n",
    "    print(f\"Loading data from {path}\")\n",
    "    df = pd.read_csv(path)\n",
    "    pdfs.append(df)"
   ]
  },
  {
   "cell_type": "code",
   "execution_count": null,
   "id": "67b81ab4-a456-4d2d-9547-ad0d772e0aaa",
   "metadata": {},
   "outputs": [],
   "source": [
    "pdfs[0].describe()"
   ]
  },
  {
   "cell_type": "markdown",
   "id": "834d6471-8490-48ea-bb52-6be31662dc97",
   "metadata": {},
   "source": [
    "# Configure whylogs\n",
    "\n",
    "`whylogs`, by default, does not send statistics to WhyLabs.\n",
    "\n",
    "There are a few small steps you need to set up. If you haven't got the access key, please onboard with WhyLabs.\n",
    "\n",
    "**WhyLabs only requires whylogs API - your raw data never leaves your premise.**"
   ]
  },
  {
   "cell_type": "code",
   "execution_count": null,
   "id": "1f8ee6e6-20cc-4967-b854-a5a8b9fc47e7",
   "metadata": {},
   "outputs": [],
   "source": [
    "from whylogs.app import Session\n",
    "from whylogs.app.writers import WhyLabsWriter\n",
    "import os\n",
    "import datetime"
   ]
  },
  {
   "cell_type": "code",
   "execution_count": null,
   "id": "31371bc6-4ec8-4518-84a0-4718b19d1506",
   "metadata": {},
   "outputs": [],
   "source": [
    "import getpass\n",
    "\n",
    "# set your org-id here\n",
    "print(\"Enter your WhyLabs Org ID\")\n",
    "os.environ[\"WHYLABS_DEFAULT_ORG_ID\"] = input()\n",
    "# set your API key here\n",
    "print(\"Enter your WhyLabs API key\")\n",
    "os.environ[\"WHYLABS_API_KEY\"] = getpass.getpass()\n",
    "print(\"Using API Key ID: \", os.environ[\"WHYLABS_API_KEY\"][0:10])"
   ]
  },
  {
   "cell_type": "markdown",
   "id": "38db51e3-39b6-4877-9318-c11726ff34d2",
   "metadata": {},
   "source": [
    "## Creating session\n",
    "\n",
    "Once the environments are set, let's create a whylogs session with a WhyLabs writer.\n",
    "\n",
    "Note that you can add your local writer or S3 writer if you want here. Check out the API docs for more information."
   ]
  },
  {
   "cell_type": "code",
   "execution_count": null,
   "id": "a4e01c22-e2f1-46be-97dc-2b080e680088",
   "metadata": {},
   "outputs": [],
   "source": [
    "# create WhyLabs session\n",
    "writer = WhyLabsWriter()\n",
    "session = Session(writers=[writer])"
   ]
  },
  {
   "cell_type": "markdown",
   "id": "8d7bbb9c-9b18-4e12-bab2-88a5176eeba7",
   "metadata": {},
   "source": [
    "## Logging to WhyLabs\n",
    "\n",
    "Ensure you have a **model ID** (also called **dataset ID**) before you start!\n",
    "\n",
    "### Dataset Timestamp\n",
    "* To avoid confusion, it's recommended that you use UTC\n",
    "* If you don't set `dataset_timestamp` parameter, it'll default to `UTC` now\n",
    "* WhyLabs supports real time visualization when the timestamp is **within the last 7 days**. Anything older than than will be picked up when we run our batch processing\n",
    "* **If you log two profiles for the same day with different timestamps (12:00 vs 12:01), they are merged to the same batch**\n",
    "\n",
    "### Logging Different Batches of Data\n",
    "* We'll give the profiles different **dates**\n",
    "* Create a new logger for each date. Note that the logger needs to be `closed` to flush out the data"
   ]
  },
  {
   "cell_type": "code",
   "execution_count": null,
   "id": "3a006a2b-8403-477f-a1f5-a37ea33b160c",
   "metadata": {},
   "outputs": [],
   "source": [
    "print(\"Enter your model ID from WhyLabs:\")\n",
    "model_id = input()\n",
    "reference_profile = None\n",
    "for i, df in enumerate(pdfs):\n",
    "    # walking backwards. Each dataset has to map to a date to show up as a different batch\n",
    "    # in WhyLabs\n",
    "    dt = datetime.datetime.now(tz=datetime.timezone.utc) - datetime.timedelta(days=i)\n",
    "    \n",
    "    # Create new logger for date\n",
    "    with session.logger(tags={\"datasetId\": model_id}, dataset_timestamp=dt) as ylog:\n",
    "        print(\"Log data frame for \", dt)\n",
    "        ylog.log_dataframe(df)\n",
    "        # we will keep a reference to the first profile for us as a baseline for monitoring\n",
    "        if (i==0):\n",
    "            reference_profile = ylog.profile\n",
    "\n"
   ]
  },
  {
   "cell_type": "code",
   "execution_count": null,
   "id": "4b0ae3f5-395b-4a24-bde3-2779176ab9ee",
   "metadata": {},
   "outputs": [],
   "source": [
    "# Ensure everything is flushed\n",
    "session.close()"
   ]
  },
  {
   "cell_type": "markdown",
   "id": "3c3cfcf1",
   "metadata": {},
   "source": [
    "We still have a reference to the first profile, for this demo we will use this dataframe's profile and upload it as a reference profile for monitoring on Whylabs"
   ]
  },
  {
   "cell_type": "code",
   "execution_count": null,
   "id": "1fa34a96",
   "metadata": {},
   "outputs": [],
   "source": [
    "# You can rename the reference profile alias, this will show up when choosing a baseline on the monitoring settings page of Whylabs\n",
    "reference_profile_alias = \"demo-reference-profile\"\n",
    "reference_profile.to_summary()"
   ]
  },
  {
   "cell_type": "markdown",
   "id": "7ad55e9e",
   "metadata": {},
   "source": [
    "The reference profile can be uploading using a whylabs_client directly, first we need to reference the profile as a file on disk, so write it out."
   ]
  },
  {
   "cell_type": "code",
   "execution_count": null,
   "id": "fe653d51",
   "metadata": {},
   "outputs": [],
   "source": [
    "import tempfile\n",
    "\n",
    "# write out the profile we just \n",
    "tmp_dir = tempfile.mkdtemp()\n",
    "profile_path = os.path.join(tmp_dir, \"reference-profile.bin\")\n",
    "reference_profile.write_protobuf(profile_path)\n",
    "print(f\"Reference profile written to temporary file in preparation to upload to Whylabs as a reference profile: {profile_path}\")"
   ]
  },
  {
   "cell_type": "markdown",
   "id": "b682878f",
   "metadata": {},
   "source": [
    "The whylabs_client will construct a request to upload this as a reference profile, using the org-id, model-id and api-key entered above."
   ]
  },
  {
   "cell_type": "code",
   "execution_count": null,
   "id": "156c1bc5",
   "metadata": {},
   "outputs": [],
   "source": [
    "import requests\n",
    "import whylabs_client\n",
    "from whylabs_client.api.log_api import LogApi\n",
    "from whylabs_client.model.log_reference_request import LogReferenceRequest\n",
    "\n",
    "# Now setup some of the inputs required to make the request to upload to Whylabs using the whylabs_client\n",
    "whylabs_api_endpoint = \"https://api.whylabsapp.com\"\n",
    "api_key = os.environ[\"WHYLABS_API_KEY\"]\n",
    "print(f\"Using API key ID: {api_key[:10]} and endpoint {whylabs_api_endpoint}\")\n",
    "config = whylabs_client.Configuration(host=whylabs_api_endpoint, api_key={\"ApiKeyAuth\": api_key}, discard_unknown_keys=True)\n",
    "api_log_client = whylabs_client.ApiClient(config)\n",
    "log_api = LogApi(api_log_client)\n",
    "\n",
    "org_id = reference_profile.tags.get(\"orgId\", os.environ.get(\"WHYLABS_DEFAULT_ORG_ID\"))\n",
    "dataset_id = reference_profile.tags.get(\"datasetId\", os.environ.get(\"WHYLABS_DEFAULT_DATASET_ID\"))\n",
    "dataset_timestamp = int(reference_profile.dataset_timestamp.timestamp() * 1000)\n",
    "alias = reference_profile_alias\n",
    "\n",
    "try:\n",
    "    with open(profile_path, \"rb\") as f:\n",
    "        request = LogReferenceRequest(dataset_timestamp=dataset_timestamp, alias=alias)\n",
    "        print(f\"Making initial call to log_reference to get upload url for {alias} and in [{org_id}] for [{dataset_id}] using request: {request}\")\n",
    "        async_result = log_api.log_reference(org_id=org_id, model_id=dataset_id, log_reference_request=request, async_req=True)\n",
    "        result = async_result.get()\n",
    "        upload_url = result[\"upload_url\"]\n",
    "        print(f\"got async_result from log_reference, upload url is: {upload_url[:140]}\")\n",
    "        print(f\"About to upload reference profile...\")\n",
    "        http_response = requests.put(upload_url, data=f.read())\n",
    "        if http_response.ok:\n",
    "            print(f\"Done uploading reference profile with alias: {alias} to: {upload_url[:140]} with API token ID: {api_key[:10]}\")\n",
    "        else:\n",
    "            print(\n",
    "                f\"Failed to upload reference profile with alias: {alias} to: {upload_url[:140]} with API token ID: {api_key[:10]} to \"\n",
    "                + f\"{whylabs_api_endpoint}: unexpected HTTP status {http_response}\"\n",
    "            )\n",
    "except Exception as e:\n",
    "    print(f\"Failed to upload reference profile: {e}.\")"
   ]
  },
  {
   "cell_type": "markdown",
   "id": "b2c81d63-f420-4a36-8960-ef093b2f895f",
   "metadata": {},
   "source": [
    "## Voila\n",
    "\n",
    "* Now check the application to see if your **statistics** are in!!\n",
    "* Check the monitoring settings page, if you change the toggle from Baseline from trailing window to \"Compare to reference profile\", you can select the reference profile we just uploading which should show up with the text from our 'alias'\n"
   ]
  },
  {
   "cell_type": "code",
   "execution_count": null,
   "id": "2e14cfc8",
   "metadata": {},
   "outputs": [],
   "source": [
    "from IPython.display import display, Markdown\n",
    "url = f\"https://hub.whylabsapp.com/models/{dataset_id}/monitor-settings\"\n",
    "content = Markdown(f\"url here: {url}\")\n",
    "display(content)"
   ]
  }
 ],
 "metadata": {
  "interpreter": {
   "hash": "892921edc4b5a5c5d6099af55101733d18e39dc83f9447864be65f12184b4035"
  },
  "kernelspec": {
   "display_name": "whylogs",
   "language": "python",
   "name": "python3"
  },
  "language_info": {
   "codemirror_mode": {
    "name": "ipython",
    "version": 3
   },
   "file_extension": ".py",
   "mimetype": "text/x-python",
   "name": "python",
   "nbconvert_exporter": "python",
   "pygments_lexer": "ipython3",
   "version": "3.8.10"
  }
 },
 "nbformat": 4,
 "nbformat_minor": 5
}
